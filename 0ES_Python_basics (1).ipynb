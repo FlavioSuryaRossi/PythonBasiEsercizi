{
  "metadata": {
    "colab": {
      "collapsed_sections": [
        "KizLECz3qLuR",
        "veZRTaASf2rZ",
        "nmN8-W4mpWGh",
        "6uQ3EP7n7Z1S"
      ],
      "provenance": []
    },
    "kernelspec": {
      "name": "python",
      "display_name": "Python (Pyodide)",
      "language": "python"
    },
    "language_info": {
      "codemirror_mode": {
        "name": "python",
        "version": 3
      },
      "file_extension": ".py",
      "mimetype": "text/x-python",
      "name": "python",
      "nbconvert_exporter": "python",
      "pygments_lexer": "ipython3",
      "version": "3.8"
    },
    "latex_envs": {
      "LaTeX_envs_menu_present": true,
      "autoclose": false,
      "autocomplete": true,
      "bibliofile": "biblio.bib",
      "cite_by": "apalike",
      "current_citInitial": 1,
      "eqLabelWithNumbers": true,
      "eqNumInitial": 1,
      "hotkeys": {
        "equation": "Ctrl-E",
        "itemize": "Ctrl-I"
      },
      "labels_anchors": false,
      "latex_user_defs": false,
      "report_style_numbering": false,
      "user_envs_cfg": false
    }
  },
  "nbformat_minor": 4,
  "nbformat": 4,
  "cells": [
    {
      "cell_type": "markdown",
      "source": "# Python from Scratch - Esercizi\n\n*Chinellato Diego - TPSIT*\n\n*ITTS V. Volterra*\n\n*A.S. 2022/2023*",
      "metadata": {
        "id": "q4KH5Ja2qLt1"
      }
    },
    {
      "cell_type": "markdown",
      "source": "Ogni esercizio è accompagnato da una serie di `assert` che verificano se la funzione è corretta. In poche parole, `assert` è un operatore Python (ma è presente in molti linguaggi) che lancia un'eccezione se una certa condizione non viene rispettata:",
      "metadata": {
        "id": "W2tPFm9Qf5oB"
      }
    },
    {
      "cell_type": "code",
      "source": "assert 1 == 1, 'primo assert passato'\nassert 1 == 2, 'secondo assert fallito'",
      "metadata": {
        "colab": {
          "base_uri": "https://localhost:8080/",
          "height": 186
        },
        "id": "tTHxYOftjXTa",
        "outputId": "711853cf-cfeb-4058-a49a-3482cc1175d9"
      },
      "execution_count": 1,
      "outputs": [
        {
          "ename": "AssertionError",
          "evalue": "secondo assert fallito",
          "output_type": "error",
          "traceback": [
            "\u001b[0;31m---------------------------------------------------------------------------\u001b[0m",
            "\u001b[0;31mAssertionError\u001b[0m                            Traceback (most recent call last)",
            "Cell \u001b[0;32mIn[1], line 2\u001b[0m\n\u001b[1;32m      1\u001b[0m \u001b[38;5;28;01massert\u001b[39;00m \u001b[38;5;241m1\u001b[39m \u001b[38;5;241m==\u001b[39m \u001b[38;5;241m1\u001b[39m, \u001b[38;5;124m'\u001b[39m\u001b[38;5;124mprimo assert passato\u001b[39m\u001b[38;5;124m'\u001b[39m\n\u001b[0;32m----> 2\u001b[0m \u001b[38;5;28;01massert\u001b[39;00m \u001b[38;5;241m1\u001b[39m \u001b[38;5;241m==\u001b[39m \u001b[38;5;241m2\u001b[39m, \u001b[38;5;124m'\u001b[39m\u001b[38;5;124msecondo assert fallito\u001b[39m\u001b[38;5;124m'\u001b[39m\n",
            "\u001b[0;31mAssertionError\u001b[0m: secondo assert fallito"
          ]
        }
      ]
    },
    {
      "cell_type": "markdown",
      "source": "La sintassi è `assert check msg`, dove `check` è l'espressione booleana da valutare e `msg` è il messaggio che viene printato se il check fallisce. Sono estremamente utili, sopratutto per debuggare e testare il codice. Per approffondire: https://realpython.com/python-assert-statement/",
      "metadata": {
        "id": "Mq5gngc7juaz"
      }
    },
    {
      "cell_type": "markdown",
      "source": "## Esercizio 1: find and replace\n\nFind-and-replace è una feature molto comune in text editors, IDEs e software di word processing. In questo esercizio, dovrai implementare questa comune funzione.\n\nDefinisci una funzione `find_and_replace(text, old_text, new_text)` che sostituisce tutte le occorrenze di `old_text` in `text` con `new_text`. La funzione deve essere case sensitive (vedi esempi nella cella con assert).",
      "metadata": {
        "id": "KizLECz3qLuR"
      }
    },
    {
      "cell_type": "code",
      "source": "def find_and_replace(text, old_text, new_text):\n  return text.replace(old_text, new_text)",
      "metadata": {
        "id": "xxJXSbw8fZUN"
      },
      "execution_count": 2,
      "outputs": []
    },
    {
      "cell_type": "code",
      "source": "assert find_and_replace('The fox', 'fox', 'dog') == 'The dog'\nassert find_and_replace('fox', 'fox', 'dog') == 'dog'\nassert find_and_replace('Firefox', 'fox', 'dog') == 'Firedog'\nassert find_and_replace('foxfox', 'fox', 'dog') == 'dogdog'\nassert find_and_replace('The Fox and fox.', 'fox', 'dog') == 'The Fox and dog.'\nassert find_and_replace('THE FOX AND THE DOG', 'fox', 'dog') == 'THE FOX AND THE DOG'",
      "metadata": {
        "colab": {
          "base_uri": "https://localhost:8080/"
        },
        "id": "s4YnBPK8qLuR",
        "outputId": "1240cc22-ab97-42b9-a76d-3175578a12c7"
      },
      "execution_count": 3,
      "outputs": []
    },
    {
      "cell_type": "markdown",
      "source": "## Esercizio 2: ore, minuti, secondi\nDefinisci una funzione `get_hours_minutes_seconds(seconds)` che converte il numero di secondi passato come parametro nel numero di ore, minuti e secondi.\nAd esempio, `get_hours_minutes_seconds(90)` deve ritornare '1m 30s'\nPer una sfida in più, considera anche il periodo di 24 ore e aggiungi il suffisso \"d\"; ad esempio, `get_hours_minutes_seconds(90042)` ritorna '1d 1h 42s'.",
      "metadata": {
        "id": "veZRTaASf2rZ"
      }
    },
    {
      "cell_type": "code",
      "source": "def get_hours_minutes_seconds(seconds):\n    time = ''\n    if seconds>=3600:\n        time+= f\"{seconds//3600}h\"\n        seconds %= 3600\n        if seconds>0:\n            time += ' '\n    if seconds>=60:\n        time+= f\"{seconds//60}m\"\n        seconds %= 60\n        if seconds>0:\n            time += ' '\n    if seconds>0 or time == '':\n        time+= f\"{seconds}s\"\n    return time",
      "metadata": {
        "id": "taOZevsskr_0"
      },
      "execution_count": 51,
      "outputs": []
    },
    {
      "cell_type": "code",
      "source": "assert get_hours_minutes_seconds(30) == '30s'\nassert get_hours_minutes_seconds(60) == '1m'\nassert get_hours_minutes_seconds(90) == '1m 30s'\nassert get_hours_minutes_seconds(3600) == '1h'\nassert get_hours_minutes_seconds(3601) == '1h 1s'\nassert get_hours_minutes_seconds(3661) == '1h 1m 1s'\nassert get_hours_minutes_seconds(90042) == '25h 42s'\nassert get_hours_minutes_seconds(0) == '0s'",
      "metadata": {
        "id": "DX3TsjlbksgK"
      },
      "execution_count": 52,
      "outputs": []
    },
    {
      "cell_type": "markdown",
      "source": "## Esercizio 3: massimi e minimi, somme e prodotti, medie e mediane \nScrivere le seguenti funzioni che \"riducono\" un iterabile (lista, tupla, set, ...) a un singolo valore:\n* `maximum(t)` e `minimum(t)` che ritornano rispettivamente il valore massimo e minimo presente in `t`\n* `somma(t)` e `prod(t)` che ritornano rispettivamente la somma e il prodotto di tutti gli elementi di `t`\n* `moda(t)` che ritorna l'elemento più frequente di `t`\n* `avg(t)` e `median(t)` che ritornano rispettivamente la media e la mediana di `t`. \n  * Assumendo che `t` contenga `n` elementi, la media è definita come: $\\frac{1}{n}∑_{x \\in t}x$. \n  * La mediana è invece definita come l'elemento centrale di t, dopo che t è stato ordinato in ordine crescente. Se n è dispari, l'elemento centrale è l'elemento in posizione $\\frac{n+1}{2}$, mentre se n è pari l'elemento centrale è la media dei due elementi nelle posizioni $\\frac{n}{2}, \\frac{n}{2} + 1$ ($\\frac{t[\\frac{n}{2}] + t[\\frac{n}{2} + 1]}{2}$).",
      "metadata": {
        "id": "nmN8-W4mpWGh"
      }
    },
    {
      "cell_type": "code",
      "source": "def maximum(t):\n    return max(t)\n\ndef minimum(t):\n    return min(t)\n\ndef somma(t):\n    a = 0\n    for i in t:\n        a+=i\n    return a\n\ndef prod(t):\n    a=1\n    for i in t:\n        a*=i\n    return a\n\ndef moda(t):\n    s = set(t)\n    d = dict.fromkeys(s, 0)\n    for i in t:\n        d[i] += 1\n    value = max(d.values())\n    mode = {i for i in d if d[i]==value}\n    return mode\n\ndef avg(t):\n    return somma(t)/len(t)\n\ndef median(t):\n    t = sorted(t)\n    n = len(t)\n    if n == 0:\n        return 0\n    if n % 2 == 1:\n        return t[n//2]\n    else:\n        i = n//2\n        return (t[i-1] + t[i])/2",
      "metadata": {
        "id": "jSWg4OXPseaK",
        "trusted": true
      },
      "execution_count": 35,
      "outputs": []
    },
    {
      "cell_type": "code",
      "source": "t = [1, 2, 3, 4, 5, 7]\nassert maximum(t) == 5-5+7\nassert minimum(t) == 1\nassert somma(t) == 15+7\nassert prod(t) == 120*7\nassert round(avg(t), 2) == 3.67\nassert median(t) == 3.5\nprint(moda([1, 2, 3, 1, 2, 1, 1, 1, 2]))\nassert moda([1, 2, 3, 1, 2, 1, 1, 1, 2]) == 1\nassert moda([1, 2, 3, 3, 3, 1, 2, 1, 2, 3, 3, 3]) == 3\n\n# mescolare t non deve cambiare la mediana\nimport random\nrandom.seed(42)\nt = [3, 7, 10, 4, 1, 9, 6, 2, 8]\nfor _ in range(5):\n  random.shuffle(t)\n  assert median(t) == 6",
      "metadata": {
        "id": "Uc8YEPOnsfdg",
        "trusted": true
      },
      "execution_count": 36,
      "outputs": [
        {
          "name": "stdout",
          "text": "{1}\n",
          "output_type": "stream"
        },
        {
          "ename": "<class 'AssertionError'>",
          "evalue": "",
          "traceback": [
            "\u001b[0;31m---------------------------------------------------------------------------\u001b[0m",
            "\u001b[0;31mAssertionError\u001b[0m                            Traceback (most recent call last)",
            "Cell \u001b[0;32mIn[36], line 9\u001b[0m\n\u001b[1;32m      7\u001b[0m \u001b[38;5;28;01massert\u001b[39;00m median(t) \u001b[38;5;241m==\u001b[39m \u001b[38;5;241m3.5\u001b[39m\n\u001b[1;32m      8\u001b[0m \u001b[38;5;28mprint\u001b[39m(moda([\u001b[38;5;241m1\u001b[39m, \u001b[38;5;241m2\u001b[39m, \u001b[38;5;241m3\u001b[39m, \u001b[38;5;241m1\u001b[39m, \u001b[38;5;241m2\u001b[39m, \u001b[38;5;241m1\u001b[39m, \u001b[38;5;241m1\u001b[39m, \u001b[38;5;241m1\u001b[39m, \u001b[38;5;241m2\u001b[39m]))\n\u001b[0;32m----> 9\u001b[0m \u001b[38;5;28;01massert\u001b[39;00m moda([\u001b[38;5;241m1\u001b[39m, \u001b[38;5;241m2\u001b[39m, \u001b[38;5;241m3\u001b[39m, \u001b[38;5;241m1\u001b[39m, \u001b[38;5;241m2\u001b[39m, \u001b[38;5;241m1\u001b[39m, \u001b[38;5;241m1\u001b[39m, \u001b[38;5;241m1\u001b[39m, \u001b[38;5;241m2\u001b[39m]) \u001b[38;5;241m==\u001b[39m \u001b[38;5;241m1\u001b[39m\n\u001b[1;32m     10\u001b[0m \u001b[38;5;28;01massert\u001b[39;00m moda([\u001b[38;5;241m1\u001b[39m, \u001b[38;5;241m2\u001b[39m, \u001b[38;5;241m3\u001b[39m, \u001b[38;5;241m3\u001b[39m, \u001b[38;5;241m3\u001b[39m, \u001b[38;5;241m1\u001b[39m, \u001b[38;5;241m2\u001b[39m, \u001b[38;5;241m1\u001b[39m, \u001b[38;5;241m2\u001b[39m, \u001b[38;5;241m3\u001b[39m, \u001b[38;5;241m3\u001b[39m, \u001b[38;5;241m3\u001b[39m]) \u001b[38;5;241m==\u001b[39m \u001b[38;5;241m3\u001b[39m\n\u001b[1;32m     12\u001b[0m \u001b[38;5;66;03m# mescolare t non deve cambiare la mediana\u001b[39;00m\n",
            "\u001b[0;31mAssertionError\u001b[0m: "
          ],
          "output_type": "error"
        }
      ]
    },
    {
      "cell_type": "markdown",
      "source": "## Esercizio 4: generatore di password\nDefinisci una funzione `gen_pwd(length)` che genera una password casuale di lunghezza `length`. Per sicurezza, la password deve sempre essere di almeno 8 caratteri (anche nei casi in cui `length < 8`). La password ritornata (stringa) deve contenere almeno una lettera minuscola, una maiuscola, un numero e un carattere speciale. I caratteri speciali sono i seguenti: ~!@#$%^&*()_+.\nLa soluzione dovrebbe importare il modulo `random` per generare queste password in maniera casuale. ",
      "metadata": {
        "id": "l20W01nvuIWx"
      }
    },
    {
      "cell_type": "code",
      "source": "def gen_pwd(length):\n    special = '~!@#$%^&*()_+.'\n    pwd = random.choice('qwertyuiopasdfghjklzxcvbnm')\n    pwd+=random.choice('QWERTYUIOPOASDFGHJKLZXCVBNM')\n    pwd+=random.choice('0123456789')\n    pwd+=special[random.randint(0, len(special)-1)]         \n    for i in range(max(length, 8)-4):\n        rand = random.randint(0,3)\n        if rand == 0:\n            pwd+=random.choice('qwertyuiopasdfghjklzxcvbnm')\n        elif rand == 1:\n            pwd+=random.choice('QWERTYUIOPOASDFGHJKLZXCVBNM')\n        elif rand == 2:\n            pwd+=random.choice('0123456789')            \n        else:\n            pwd+=special[random.randint(0, len(special)-1)]            \n    return pwd",
      "metadata": {
        "id": "U0UoEo_euH33"
      },
      "execution_count": 11,
      "outputs": [
        {
          "name": "stdout",
          "output_type": "stream",
          "text": "nW1@N(d(\n\ngH4*cc5p\n"
        }
      ]
    },
    {
      "cell_type": "code",
      "source": "assert len(gen_pwd(7)) == 8 \nassert len(gen_pwd(8)) == 8 \nfrom string import ascii_uppercase, ascii_lowercase, digits\nspecial = '~!@#$%^&*()_+.'\npwd = gen_pwd(8)\nassert any(c in pwd for c in ascii_uppercase), 'uppercase letter missing'\nassert any(c in pwd for c in ascii_lowercase), 'lowercase letter missing'\nassert any(d in pwd for d in digits), 'digit missing'\nassert any(s in pwd for s in special), 'special char missing'",
      "metadata": {
        "id": "fuBNhAuq7aM1"
      },
      "execution_count": 9,
      "outputs": []
    },
    {
      "cell_type": "markdown",
      "source": "## Esercizio 5: Bubble Sort\nIl Bubble Sort è un algoritmo di ordinamento, spesso il primo insegnato agli studenti di informatica. Anche se inefficiente e inadatto al software del mondo reale, è un algoritmo molto semplice da capire e implementare. L'idea è iterare ripetutamente il vettore da ordinare, considerando coppie consecutive di elementi; se la coppia non è in ordine (cioè, in posizione $i-1$ c'è un elemento più grande di quello in posizione $i$), i due elementi vengono scambiati. L'algoritmo termina quanto itero il vettore dall'inizio alla fine senza effettuare alcuno swap. Su Wikipedia (https://en.wikipedia.org/wiki/Bubble_sort) trovate una spiegazione più dettagliata e un esempio visivo, oltre al pseudocodice.\n\nDefinisci una funzione `bubble_sort(numbers)` che ordina in-place (senza creare una nuova variabile) la lista `numbers` tramite bubble sort e ritorna la lista ordinata. \n\n\n",
      "metadata": {
        "id": "Ek2SNDO6HLlP"
      }
    },
    {
      "cell_type": "code",
      "source": "def bubble_sort(numbers):\n    if len(numbers) == 0:\n        return\n    for j in range(len(numbers)-1):\n        for i in range(len(numbers)-j-1):\n            if numbers[i] > numbers[i+1]:\n                numbers[i], numbers[i+1] = numbers[i+1], numbers[i]\n    return numbers",
      "metadata": {
        "id": "FFjq5dNgHMLP"
      },
      "execution_count": 69,
      "outputs": []
    },
    {
      "cell_type": "code",
      "source": "assert bubble_sort([2, 0, 4, 1, 3]) == [0, 1, 2, 3, 4]\nassert bubble_sort([2, 2, 2, 2]) == [2, 2, 2, 2]",
      "metadata": {
        "id": "n8oGTsv6IIEH"
      },
      "execution_count": 70,
      "outputs": []
    },
    {
      "cell_type": "markdown",
      "source": "## Esercizio 6: strette di mano\nDefinisci una funzione `print_handshakes(people)` che, data una lista di nomi di persone `people` printa \"X shakes hands with Y\", where X e Y sono tutte le possibili combinazioni di strette di mano tra persone nella lista. Non devono esserci duplicati - se A stringe la mano a B, B non deve stringerla ad A. Ad esempio, `print_handshakes(['Alice', 'Bob', 'Carol', 'David'])` dovrebbe printare:\n\nAlice shakes hands with Bob\nAlice shakes hands with Carol\nAlice shakes hands with David\nBob shakes hands with Carol\nBob shakes hands with David\nCarol shakes hands with David\n\nLa funzione deve anche ritornare un intero che rappresenta il numero totale di strette di mano.",
      "metadata": {
        "id": "LVTlxByZP8fB"
      }
    },
    {
      "cell_type": "code",
      "source": "def print_handshakes(people):\n    if len(people) == 0:\n        return 0\n    handshakes = 0\n    for i in range(len(people)-1):\n        print(f\"{people[0]} shakes hands with {people[i+1]}\")\n        handshakes+=1\n    return handshakes + print_handshakes(people[1:])",
      "metadata": {
        "id": "Evxe0gVmQDjK",
        "trusted": true
      },
      "execution_count": 4,
      "outputs": []
    },
    {
      "cell_type": "code",
      "source": "assert print_handshakes(['Alice', 'Bob']) == 1\nassert print_handshakes(['Alice', 'Bob', 'Carol']) == 3\nassert print_handshakes(['Alice', 'Bob', 'Carol', 'David']) == 6",
      "metadata": {
        "id": "AkBViajXP76Y",
        "trusted": true
      },
      "execution_count": 5,
      "outputs": [
        {
          "name": "stdout",
          "text": "Alice shakes hands with Bob\nAlice shakes hands with Bob\nAlice shakes hands with Carol\nBob shakes hands with Carol\nAlice shakes hands with Bob\nAlice shakes hands with Carol\nAlice shakes hands with David\nBob shakes hands with Carol\nBob shakes hands with David\nCarol shakes hands with David\n",
          "output_type": "stream"
        }
      ]
    },
    {
      "cell_type": "markdown",
      "source": "## Esercizio 7: random shuffle\nDefinisci una funzione `shuffle(values)` che mescola la lista `values`, ovvero modifica in maniera randomica la posizione di ogni elemento della lista. La funzione non deve ritornare la lista ordinata. La lista mescolata deve contenere gli stessi elementi, ma in un ordine diverso (random).\nNota: l'esercizio chiede di implementare una funzione identical al `random.shuffle()` nativamente incluso in Python. Chiaramente, evita di usare questa funzione dato che renderebbe l'esercizio inutile.",
      "metadata": {
        "id": "lN9tHYCwVBYC"
      }
    },
    {
      "cell_type": "code",
      "source": "import random\ndef shuffle(values):\n    if len(values) == 0:\n        return \n    a = random.randint(0, len(values)-1)\n    b = random.randint(0, len(values)-1)\n    values[a] , values[b] = values[b], values[a]",
      "metadata": {
        "id": "ZWY4SZFpVB7h"
      },
      "execution_count": 16,
      "outputs": []
    },
    {
      "cell_type": "code",
      "source": "import random\nrandom.seed(42)\n# Perform this test ten times:\nfor i in range(10):\n    testData1 = [1, 2, 3, 4, 5, 6, 7, 8, 9, 10]\n    shuffle(testData1)\n# Make sure the number of values hasn't changed:\nassert len(testData1) == 10\n# Make sure the order has changed:\nassert testData1 != [1, 2, 3, 4, 5, 6, 7, 8, 9, 10]\n# Make sure that when re-sorted, all the original values are there:\nassert sorted(testData1) == [1, 2, 3, 4, 5, 6, 7, 8, 9, 10]\n# Make sure an empty list shuffled remains empty:\ntestData2 = []\nshuffle(testData2)\nassert testData2 == []",
      "metadata": {
        "id": "ivenskRyVENk"
      },
      "execution_count": 17,
      "outputs": []
    },
    {
      "cell_type": "markdown",
      "source": "## Esercizio 8: merge di due liste ordinate\nUno degli algoritmi di ordinamento più efficienti è il Merge Sort, che si compone di due fasi: divisione e merge. è un algoritmo discretamente complesso, quindi non lo tratteremo interamente. Ci concentriamo invece sulla seconda parte, ovvero il merge.\n\nScrivi una funzione `merge_lists(l1, l2)` che prende due liste ordinate `l1, l2` e ritorna una singla lista ordinata contenente gli elementi di queste due liste. Cerca di non usare `sorted()` o `list.sort()` nella soluzione dell'esercizio.",
      "metadata": {
        "id": "FUnkKpMMVEnH"
      }
    },
    {
      "cell_type": "code",
      "source": "def merge_lists(l1, l2):\n    ls = []\n    while len(l1) > 0 and len(l2) > 0:\n        if l1[0] <= l2[0]:\n            ls.append(l1[0])\n            l1 = l1[1:]\n        else:\n            ls.append(l2[0])\n            l2 = l2[1:]\n    if len(l1)>len(l2):\n        ls.extend(l1)\n    else:\n        ls.extend(l2)\n    return ls",
      "metadata": {
        "id": "eVDuwir3VHR4"
      },
      "execution_count": 34,
      "outputs": []
    },
    {
      "cell_type": "code",
      "source": "assert merge_lists([1, 3, 6], [5, 7, 8, 9]) == [1, 3, 5, 6, 7, 8, 9]\nassert merge_lists([1, 2, 3], [4, 5]) == [1, 2, 3, 4, 5]\nassert merge_lists([4, 5], [1, 2, 3]) == [1, 2, 3, 4, 5]\nassert merge_lists([2, 2, 2], [2, 2, 2]) == [2, 2, 2, 2, 2, 2]\nassert merge_lists([1, 2, 3], []) == [1, 2, 3]\nassert merge_lists([], [1, 2, 3]) == [1, 2, 3]",
      "metadata": {
        "id": "ErXNNSABVG2j"
      },
      "execution_count": 35,
      "outputs": []
    },
    {
      "cell_type": "markdown",
      "source": "## Esercizio 9: file CSV\nUn file CSV (Comma Separated Values) è un file di testo in cui ogni riga è un record (simile a una tabella di un DB) e usa la virgola (o altro carattere speciale) per delimitare i valori dei campi all'interno del record. Spesso inoltre presenta una priga riga (header) contenente il nome di ogni colonna. Questo tipo di file è molto usato, specie per contenere dataset (insiemi di dati).\n\nLe due celle di codice che seguono scaricano un famoso file CSV (un dataset contenente dati dei passeggeri del Titanic) e mostrano le prime righe di tale file.",
      "metadata": {
        "id": "6uQ3EP7n7Z1S"
      }
    },
    {
      "cell_type": "code",
      "source": "!wget https://raw.githubusercontent.com/datasciencedojo/datasets/master/titanic.csv",
      "metadata": {
        "colab": {
          "base_uri": "https://localhost:8080/"
        },
        "id": "qzKFXYi29TY4",
        "outputId": "19d0f56a-803f-407a-b30d-412c8c43d474"
      },
      "execution_count": null,
      "outputs": [
        {
          "name": "stdout",
          "output_type": "stream",
          "text": "--2022-11-23 10:15:11--  https://raw.githubusercontent.com/datasciencedojo/datasets/master/titanic.csv\n\n\n\nResolving raw.githubusercontent.com (raw.githubusercontent.com)... 185.199.108.133, 185.199.109.133, 185.199.110.133, ...\n\n\n\nConnecting to raw.githubusercontent.com (raw.githubusercontent.com)|185.199.108.133|:443... connected.\n\n\n\nHTTP request sent, awaiting response... 200 OK\n\n\n\nLength: 60302 (59K) [text/plain]\n\n\n\nSaving to: ‘titanic.csv’\n\n\n\n\n\n\n\ntitanic.csv         100%[===================>]  58.89K  --.-KB/s    in 0.001s  \n\n\n\n\n\n\n\n2022-11-23 10:15:11 (54.7 MB/s) - ‘titanic.csv’ saved [60302/60302]\n\n\n\n\n"
        }
      ]
    },
    {
      "cell_type": "code",
      "source": "!head titanic.csv",
      "metadata": {
        "colab": {
          "base_uri": "https://localhost:8080/"
        },
        "id": "IvugYqvT90St",
        "outputId": "ac4ea850-aa61-4c3a-b1a1-08f050db32ed"
      },
      "execution_count": null,
      "outputs": [
        {
          "name": "stdout",
          "output_type": "stream",
          "text": "PassengerId,Survived,Pclass,Name,Sex,Age,SibSp,Parch,Ticket,Fare,Cabin,Embarked\n\n\n\n1,0,3,\"Braund, Mr. Owen Harris\",male,22,1,0,A/5 21171,7.25,,S\n\n\n\n2,1,1,\"Cumings, Mrs. John Bradley (Florence Briggs Thayer)\",female,38,1,0,PC 17599,71.2833,C85,C\n\n\n\n3,1,3,\"Heikkinen, Miss. Laina\",female,26,0,0,STON/O2. 3101282,7.925,,S\n\n\n\n4,1,1,\"Futrelle, Mrs. Jacques Heath (Lily May Peel)\",female,35,1,0,113803,53.1,C123,S\n\n\n\n5,0,3,\"Allen, Mr. William Henry\",male,35,0,0,373450,8.05,,S\n\n\n\n6,0,3,\"Moran, Mr. James\",male,,0,0,330877,8.4583,,Q\n\n\n\n7,0,1,\"McCarthy, Mr. Timothy J\",male,54,0,0,17463,51.8625,E46,S\n\n\n\n8,0,3,\"Palsson, Master. Gosta Leonard\",male,2,3,1,349909,21.075,,S\n\n\n\n9,1,3,\"Johnson, Mrs. Oscar W (Elisabeth Vilhelmina Berg)\",female,27,0,2,347742,11.1333,,S\n"
        }
      ]
    },
    {
      "cell_type": "markdown",
      "source": "Ad esempio, la prima colonna è l'ID del passeggero, la seconda indica se è sopravvissuto o meno (notare 0/1 anzichè True/False) e la terza la classe del passeggero. Notare che in generale un record potrebbe avere dei campi mancanti (ad esempio nel primo record il campo \"cabin\" è mancante, si nota dalle doppie virgole \",,\"). \n\nL'obiettivo è definire una funzione `load_data(file)` che legge il file e ritorna una struttura dati contenente tutti i dati di tutti i passeggeri. I campi mancanti devono avere valore `None`. La scelta della struttura sta a te, ad esempio si potrebbe usare un `dict` che ha come chiavi i nomi delle colonne, oppure una classe definita ad hoc. Idealmente, la struttura dati dovrebbe permettere di accedere a un particolare record in maniera rapida (es. tramite slicing `print(data[50])` o un metodo custom `print(data.get(50))` o come vi pare dovrei riuscire ad ottenere qualunque record in maniera semplice, in questo caso il 50esimo). Sarebbe ottimale avere la possibilità di effettuare slicing \"column-wise\", ovvero richiedere una singola colonna; ad esempio, `data['Name']` o `data.col['Name']` dovrebbe ritornare un iterabile contenente il nome di tutti i passeggeri.\n\nFatto questo, computare qualche semplice statistica del dataset usando la vostra struttura dati. Qualche suggerimento: percentuale di uomini/donne a bordo, nome più (o meno) diffuso, costo medio del biglietto, distribuzione delle età (cioè: $x$ persone con 22 anni, $y$ persone con 23 anni, $z$ con 24 anni, ...).",
      "metadata": {
        "id": "krWpDLjADLCz"
      }
    },
    {
      "cell_type": "code",
      "source": "def load_data(file):\n    columns = file.readline()\n    dictionary = {x: [] for x in columns}\n    for line in file:\n        for i in range(line):\n            if i == '':\n                dictionary[columns[i]].appens[None]\n            else:\n                dictionary[columns[i]].append(line[i])",
      "metadata": {
        "id": "Vi1dD5jKDK1D",
        "trusted": true
      },
      "execution_count": 2,
      "outputs": []
    },
    {
      "cell_type": "code",
      "source": "load_data(file)",
      "metadata": {
        "trusted": true
      },
      "execution_count": 3,
      "outputs": [
        {
          "ename": "<class 'NameError'>",
          "evalue": "name 'file' is not defined",
          "traceback": [
            "\u001b[0;31m---------------------------------------------------------------------------\u001b[0m",
            "\u001b[0;31mNameError\u001b[0m                                 Traceback (most recent call last)",
            "Cell \u001b[0;32mIn[3], line 1\u001b[0m\n\u001b[0;32m----> 1\u001b[0m load_data(\u001b[43mfile\u001b[49m)\n",
            "\u001b[0;31mNameError\u001b[0m: name 'file' is not defined"
          ],
          "output_type": "error"
        }
      ]
    }
  ]
}