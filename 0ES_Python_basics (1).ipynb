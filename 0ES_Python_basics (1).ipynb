{
  "cells": [
    {
      "cell_type": "markdown",
      "metadata": {
        "id": "q4KH5Ja2qLt1"
      },
      "source": [
        "# Python from Scratch - Esercizi\n",
        "\n",
        "*Chinellato Diego - TPSIT*\n",
        "\n",
        "*ITTS V. Volterra*\n",
        "\n",
        "*A.S. 2022/2023*"
      ]
    },
    {
      "cell_type": "markdown",
      "metadata": {
        "id": "W2tPFm9Qf5oB"
      },
      "source": [
        "Ogni esercizio è accompagnato da una serie di `assert` che verificano se la funzione è corretta. In poche parole, `assert` è un operatore Python (ma è presente in molti linguaggi) che lancia un'eccezione se una certa condizione non viene rispettata:"
      ]
    },
    {
      "cell_type": "code",
      "execution_count": null,
      "metadata": {
        "colab": {
          "base_uri": "https://localhost:8080/",
          "height": 186
        },
        "id": "tTHxYOftjXTa",
        "outputId": "711853cf-cfeb-4058-a49a-3482cc1175d9"
      },
      "outputs": [
        {
          "ename": "AssertionError",
          "evalue": "secondo assert fallito",
          "output_type": "error",
          "traceback": [
            "\u001b[0;31m---------------------------------------------------------------------------\u001b[0m",
            "\u001b[0;31mAssertionError\u001b[0m                            Traceback (most recent call last)",
            "Cell \u001b[0;32mIn[1], line 2\u001b[0m\n\u001b[1;32m      1\u001b[0m \u001b[38;5;28;01massert\u001b[39;00m \u001b[38;5;241m1\u001b[39m \u001b[38;5;241m==\u001b[39m \u001b[38;5;241m1\u001b[39m, \u001b[38;5;124m'\u001b[39m\u001b[38;5;124mprimo assert passato\u001b[39m\u001b[38;5;124m'\u001b[39m\n\u001b[0;32m----> 2\u001b[0m \u001b[38;5;28;01massert\u001b[39;00m \u001b[38;5;241m1\u001b[39m \u001b[38;5;241m==\u001b[39m \u001b[38;5;241m2\u001b[39m, \u001b[38;5;124m'\u001b[39m\u001b[38;5;124msecondo assert fallito\u001b[39m\u001b[38;5;124m'\u001b[39m\n",
            "\u001b[0;31mAssertionError\u001b[0m: secondo assert fallito"
          ]
        }
      ],
      "source": [
        "assert 1 == 1, 'primo assert passato'\n",
        "assert 1 == 2, 'secondo assert fallito'"
      ]
    },
    {
      "cell_type": "markdown",
      "metadata": {
        "id": "Mq5gngc7juaz"
      },
      "source": [
        "La sintassi è `assert check msg`, dove `check` è l'espressione booleana da valutare e `msg` è il messaggio che viene printato se il check fallisce. Sono estremamente utili, sopratutto per debuggare e testare il codice. Per approffondire: https://realpython.com/python-assert-statement/"
      ]
    },
    {
      "cell_type": "markdown",
      "metadata": {
        "id": "KizLECz3qLuR"
      },
      "source": [
        "## Esercizio 1: find and replace\n",
        "\n",
        "Find-and-replace è una feature molto comune in text editors, IDEs e software di word processing. In questo esercizio, dovrai implementare questa comune funzione.\n",
        "\n",
        "Definisci una funzione `find_and_replace(text, old_text, new_text)` che sostituisce tutte le occorrenze di `old_text` in `text` con `new_text`. La funzione deve essere case sensitive (vedi esempi nella cella con assert)."
      ]
    },
    {
      "cell_type": "code",
      "execution_count": 34,
      "metadata": {
        "id": "xxJXSbw8fZUN"
      },
      "outputs": [],
      "source": [
        "def find_and_replace(text, old_text, new_text):\n",
        "    old = len(old_text)\n",
        "    i = 0\n",
        "    while i in range(len(text)-old+1):\n",
        "        if text[i:i+old] == old_text:\n",
        "            text = text[0:i] + new_text + text[i+old:]\n",
        "            i += len(new_text)-1\n",
        "        i+=1\n",
        "    return text"
      ]
    },
    {
      "cell_type": "code",
      "execution_count": 35,
      "metadata": {
        "id": "s4YnBPK8qLuR"
      },
      "outputs": [],
      "source": [
        "assert find_and_replace('The fox', 'fox', 'dog') == 'The dog'\n",
        "assert find_and_replace('fox', 'fox', 'dog') == 'dog'\n",
        "assert find_and_replace('Firefox', 'fox', 'dog') == 'Firedog'\n",
        "assert find_and_replace('foxfox', 'fox', 'dog') == 'dogdog'\n",
        "assert find_and_replace('The Fox and fox.', 'fox', 'dog') == 'The Fox and dog.'\n",
        "assert find_and_replace('THE FOX AND THE DOG', 'fox', 'dog') == 'THE FOX AND THE DOG'"
      ]
    },
    {
      "cell_type": "markdown",
      "metadata": {
        "id": "veZRTaASf2rZ"
      },
      "source": [
        "## Esercizio 2: ore, minuti, secondi\n",
        "Definisci una funzione `get_hours_minutes_seconds(seconds)` che converte il numero di secondi passato come parametro nel numero di ore, minuti e secondi.\n",
        "Ad esempio, `get_hours_minutes_seconds(90)` deve ritornare '1m 30s'\n",
        "Per una sfida in più, considera anche il periodo di 24 ore e aggiungi il suffisso \"d\"; ad esempio, `get_hours_minutes_seconds(90042)` ritorna '1d 1h 42s'."
      ]
    },
    {
      "cell_type": "code",
      "execution_count": null,
      "metadata": {
        "id": "taOZevsskr_0"
      },
      "outputs": [],
      "source": [
        "def get_hours_minutes_seconds(seconds):\n",
        "    time = ''\n",
        "    if seconds>=3600:\n",
        "        time+= f\"{seconds//3600}h\"\n",
        "        seconds %= 3600\n",
        "        if seconds>0:\n",
        "            time += ' '\n",
        "    if seconds>=60:\n",
        "        time+= f\"{seconds//60}m\"\n",
        "        seconds %= 60\n",
        "        if seconds>0:\n",
        "            time += ' '\n",
        "    if seconds>0 or time == '':\n",
        "        time+= f\"{seconds}s\"\n",
        "    return time"
      ]
    },
    {
      "cell_type": "code",
      "execution_count": null,
      "metadata": {
        "id": "DX3TsjlbksgK"
      },
      "outputs": [],
      "source": [
        "assert get_hours_minutes_seconds(30) == '30s'\n",
        "assert get_hours_minutes_seconds(60) == '1m'\n",
        "assert get_hours_minutes_seconds(90) == '1m 30s'\n",
        "assert get_hours_minutes_seconds(3600) == '1h'\n",
        "assert get_hours_minutes_seconds(3601) == '1h 1s'\n",
        "assert get_hours_minutes_seconds(3661) == '1h 1m 1s'\n",
        "assert get_hours_minutes_seconds(90042) == '25h 42s'\n",
        "assert get_hours_minutes_seconds(0) == '0s'"
      ]
    },
    {
      "cell_type": "markdown",
      "metadata": {
        "id": "nmN8-W4mpWGh"
      },
      "source": [
        "## Esercizio 3: massimi e minimi, somme e prodotti, medie e mediane \n",
        "Scrivere le seguenti funzioni che \"riducono\" un iterabile (lista, tupla, set, ...) a un singolo valore:\n",
        "* `maximum(t)` e `minimum(t)` che ritornano rispettivamente il valore massimo e minimo presente in `t`\n",
        "* `somma(t)` e `prod(t)` che ritornano rispettivamente la somma e il prodotto di tutti gli elementi di `t`\n",
        "* `moda(t)` che ritorna l'elemento più frequente di `t`\n",
        "* `avg(t)` e `median(t)` che ritornano rispettivamente la media e la mediana di `t`. \n",
        "  * Assumendo che `t` contenga `n` elementi, la media è definita come: $\\frac{1}{n}∑_{x \\in t}x$. \n",
        "  * La mediana è invece definita come l'elemento centrale di t, dopo che t è stato ordinato in ordine crescente. Se n è dispari, l'elemento centrale è l'elemento in posizione $\\frac{n+1}{2}$, mentre se n è pari l'elemento centrale è la media dei due elementi nelle posizioni $\\frac{n}{2}, \\frac{n}{2} + 1$ ($\\frac{t[\\frac{n}{2}] + t[\\frac{n}{2} + 1]}{2}$)."
      ]
    },
    {
      "cell_type": "code",
      "execution_count": null,
      "metadata": {
        "id": "jSWg4OXPseaK"
      },
      "outputs": [],
      "source": [
        "def maximum(t):\n",
        "    return max(t)\n",
        "\n",
        "def minimum(t):\n",
        "    return min(t)\n",
        "\n",
        "def somma(t):\n",
        "    a = 0\n",
        "    for i in t:\n",
        "        a+=i\n",
        "    return a\n",
        "\n",
        "def prod(t):\n",
        "    a=1\n",
        "    for i in t:\n",
        "        a*=i\n",
        "    return a\n",
        "\n",
        "def moda(t):\n",
        "    s = set(t)\n",
        "    d = dict.fromkeys(s, 0)\n",
        "    for i in t:\n",
        "        d[i] += 1\n",
        "    mode_value = max(d.values())\n",
        "    mode = [i for i in d if d[i]==mode_value]\n",
        "    return mode[0]\n",
        "\n",
        "def avg(t):\n",
        "    return somma(t)/len(t)\n",
        "\n",
        "def median(t):\n",
        "    t = sorted(t)\n",
        "    n = len(t)\n",
        "    if n == 0:\n",
        "        return 0\n",
        "    if n % 2 == 1:\n",
        "        return t[n//2]\n",
        "    else:\n",
        "        i = n//2\n",
        "        return (t[i-1] + t[i])/2"
      ]
    },
    {
      "cell_type": "code",
      "execution_count": null,
      "metadata": {
        "id": "Uc8YEPOnsfdg"
      },
      "outputs": [],
      "source": [
        "t = [1, 2, 3, 4, 5, 7]\n",
        "assert maximum(t) == 5-5+7\n",
        "assert minimum(t) == 1\n",
        "assert somma(t) == 15+7\n",
        "assert prod(t) == 120*7\n",
        "assert round(avg(t), 2) == 3.67\n",
        "assert median(t) == 3.5\n",
        "assert moda([1, 2, 3, 1, 2, 1, 1, 1, 2]) == 1\n",
        "assert moda([1, 2, 3, 3, 3, 1, 2, 1, 2, 3, 3, 3]) == 3\n",
        "\n",
        "# mescolare t non deve cambiare la mediana\n",
        "import random\n",
        "random.seed(42)\n",
        "t = [3, 7, 10, 4, 1, 9, 6, 2, 8]\n",
        "for _ in range(5):\n",
        "  random.shuffle(t)\n",
        "  assert median(t) == 6"
      ]
    },
    {
      "cell_type": "markdown",
      "metadata": {
        "id": "l20W01nvuIWx"
      },
      "source": [
        "## Esercizio 4: generatore di password\n",
        "Definisci una funzione `gen_pwd(length)` che genera una password casuale di lunghezza `length`. Per sicurezza, la password deve sempre essere di almeno 8 caratteri (anche nei casi in cui `length < 8`). La password ritornata (stringa) deve contenere almeno una lettera minuscola, una maiuscola, un numero e un carattere speciale. I caratteri speciali sono i seguenti: ~!@#$%^&*()_+.\n",
        "La soluzione dovrebbe importare il modulo `random` per generare queste password in maniera casuale. "
      ]
    },
    {
      "cell_type": "code",
      "execution_count": null,
      "metadata": {
        "id": "U0UoEo_euH33"
      },
      "outputs": [],
      "source": [
        "def gen_pwd(length):\n",
        "    special = '~!@#$%^&*()_+.'\n",
        "    pwd = random.choice('qwertyuiopasdfghjklzxcvbnm')\n",
        "    pwd+=random.choice('QWERTYUIOPOASDFGHJKLZXCVBNM')\n",
        "    pwd+=random.choice('0123456789')\n",
        "    pwd+=special[random.randint(0, len(special)-1)]         \n",
        "    for i in range(max(length, 8)-4):\n",
        "        rand = random.randint(0,3)\n",
        "        if rand == 0:\n",
        "            pwd+=random.choice('qwertyuiopasdfghjklzxcvbnm')\n",
        "        elif rand == 1:\n",
        "            pwd+=random.choice('QWERTYUIOPOASDFGHJKLZXCVBNM')\n",
        "        elif rand == 2:\n",
        "            pwd+=random.choice('0123456789')            \n",
        "        else:\n",
        "            pwd+=special[random.randint(0, len(special)-1)]            \n",
        "    return pwd"
      ]
    },
    {
      "cell_type": "code",
      "execution_count": null,
      "metadata": {
        "id": "fuBNhAuq7aM1"
      },
      "outputs": [],
      "source": [
        "assert len(gen_pwd(7)) == 8 \n",
        "assert len(gen_pwd(8)) == 8 \n",
        "from string import ascii_uppercase, ascii_lowercase, digits\n",
        "special = '~!@#$%^&*()_+.'\n",
        "pwd = gen_pwd(8)\n",
        "assert any(c in pwd for c in ascii_uppercase), 'uppercase letter missing'\n",
        "assert any(c in pwd for c in ascii_lowercase), 'lowercase letter missing'\n",
        "assert any(d in pwd for d in digits), 'digit missing'\n",
        "assert any(s in pwd for s in special), 'special char missing'"
      ]
    },
    {
      "cell_type": "markdown",
      "metadata": {
        "id": "Ek2SNDO6HLlP"
      },
      "source": [
        "## Esercizio 5: Bubble Sort\n",
        "Il Bubble Sort è un algoritmo di ordinamento, spesso il primo insegnato agli studenti di informatica. Anche se inefficiente e inadatto al software del mondo reale, è un algoritmo molto semplice da capire e implementare. L'idea è iterare ripetutamente il vettore da ordinare, considerando coppie consecutive di elementi; se la coppia non è in ordine (cioè, in posizione $i-1$ c'è un elemento più grande di quello in posizione $i$), i due elementi vengono scambiati. L'algoritmo termina quanto itero il vettore dall'inizio alla fine senza effettuare alcuno swap. Su Wikipedia (https://en.wikipedia.org/wiki/Bubble_sort) trovate una spiegazione più dettagliata e un esempio visivo, oltre al pseudocodice.\n",
        "\n",
        "Definisci una funzione `bubble_sort(numbers)` che ordina in-place (senza creare una nuova variabile) la lista `numbers` tramite bubble sort e ritorna la lista ordinata. \n",
        "\n",
        "\n"
      ]
    },
    {
      "cell_type": "code",
      "execution_count": null,
      "metadata": {
        "id": "FFjq5dNgHMLP"
      },
      "outputs": [],
      "source": [
        "def bubble_sort(numbers):\n",
        "    if len(numbers) == 0:\n",
        "        return\n",
        "    for j in range(len(numbers)-1):\n",
        "        for i in range(len(numbers)-j-1):\n",
        "            if numbers[i] > numbers[i+1]:\n",
        "                numbers[i], numbers[i+1] = numbers[i+1], numbers[i]\n",
        "    return numbers"
      ]
    },
    {
      "cell_type": "code",
      "execution_count": null,
      "metadata": {
        "id": "n8oGTsv6IIEH"
      },
      "outputs": [],
      "source": [
        "assert bubble_sort([2, 0, 4, 1, 3]) == [0, 1, 2, 3, 4]\n",
        "assert bubble_sort([2, 2, 2, 2]) == [2, 2, 2, 2]"
      ]
    },
    {
      "cell_type": "markdown",
      "metadata": {
        "id": "LVTlxByZP8fB"
      },
      "source": [
        "## Esercizio 6: strette di mano\n",
        "Definisci una funzione `print_handshakes(people)` che, data una lista di nomi di persone `people` printa \"X shakes hands with Y\", where X e Y sono tutte le possibili combinazioni di strette di mano tra persone nella lista. Non devono esserci duplicati - se A stringe la mano a B, B non deve stringerla ad A. Ad esempio, `print_handshakes(['Alice', 'Bob', 'Carol', 'David'])` dovrebbe printare:\n",
        "\n",
        "Alice shakes hands with Bob\n",
        "Alice shakes hands with Carol\n",
        "Alice shakes hands with David\n",
        "Bob shakes hands with Carol\n",
        "Bob shakes hands with David\n",
        "Carol shakes hands with David\n",
        "\n",
        "La funzione deve anche ritornare un intero che rappresenta il numero totale di strette di mano."
      ]
    },
    {
      "cell_type": "code",
      "execution_count": null,
      "metadata": {
        "id": "Evxe0gVmQDjK"
      },
      "outputs": [],
      "source": [
        "def print_handshakes(people):\n",
        "    if len(people) == 0:\n",
        "        return 0\n",
        "    handshakes = 0\n",
        "    for i in range(len(people)-1):\n",
        "        print(f\"{people[0]} shakes hands with {people[i+1]}\")\n",
        "        handshakes+=1\n",
        "    return handshakes + print_handshakes(people[1:])"
      ]
    },
    {
      "cell_type": "code",
      "execution_count": null,
      "metadata": {
        "id": "AkBViajXP76Y",
        "outputId": "f39767f7-b134-4461-8453-46c8db08e154"
      },
      "outputs": [
        {
          "name": "stdout",
          "output_type": "stream",
          "text": [
            "Alice shakes hands with Bob\n",
            "Alice shakes hands with Bob\n",
            "Alice shakes hands with Carol\n",
            "Bob shakes hands with Carol\n",
            "Alice shakes hands with Bob\n",
            "Alice shakes hands with Carol\n",
            "Alice shakes hands with David\n",
            "Bob shakes hands with Carol\n",
            "Bob shakes hands with David\n",
            "Carol shakes hands with David\n"
          ]
        }
      ],
      "source": [
        "assert print_handshakes(['Alice', 'Bob']) == 1\n",
        "assert print_handshakes(['Alice', 'Bob', 'Carol']) == 3\n",
        "assert print_handshakes(['Alice', 'Bob', 'Carol', 'David']) == 6"
      ]
    },
    {
      "cell_type": "markdown",
      "metadata": {
        "id": "lN9tHYCwVBYC"
      },
      "source": [
        "## Esercizio 7: random shuffle\n",
        "Definisci una funzione `shuffle(values)` che mescola la lista `values`, ovvero modifica in maniera randomica la posizione di ogni elemento della lista. La funzione non deve ritornare la lista ordinata. La lista mescolata deve contenere gli stessi elementi, ma in un ordine diverso (random).\n",
        "Nota: l'esercizio chiede di implementare una funzione identical al `random.shuffle()` nativamente incluso in Python. Chiaramente, evita di usare questa funzione dato che renderebbe l'esercizio inutile."
      ]
    },
    {
      "cell_type": "code",
      "execution_count": null,
      "metadata": {
        "id": "ZWY4SZFpVB7h"
      },
      "outputs": [],
      "source": [
        "import random\n",
        "def shuffle(values):\n",
        "    if len(values) == 0:\n",
        "        return \n",
        "    for i in range(len(values/2)):\n",
        "        a = random.randint(0, len(values)-1)\n",
        "        b = random.randint(0, len(values)-1)\n",
        "        values[a] , values[b] = values[b], values[a]"
      ]
    },
    {
      "cell_type": "code",
      "execution_count": null,
      "metadata": {
        "id": "ivenskRyVENk"
      },
      "outputs": [],
      "source": [
        "import random\n",
        "random.seed(42)\n",
        "# Perform this test ten times:\n",
        "for i in range(10):\n",
        "    testData1 = [1, 2, 3, 4, 5, 6, 7, 8, 9, 10]\n",
        "    shuffle(testData1)\n",
        "# Make sure the number of values hasn't changed:\n",
        "assert len(testData1) == 10\n",
        "# Make sure the order has changed:\n",
        "assert testData1 != [1, 2, 3, 4, 5, 6, 7, 8, 9, 10]\n",
        "# Make sure that when re-sorted, all the original values are there:\n",
        "assert sorted(testData1) == [1, 2, 3, 4, 5, 6, 7, 8, 9, 10]\n",
        "# Make sure an empty list shuffled remains empty:\n",
        "testData2 = []\n",
        "shuffle(testData2)\n",
        "assert testData2 == []"
      ]
    },
    {
      "cell_type": "markdown",
      "metadata": {
        "id": "FUnkKpMMVEnH"
      },
      "source": [
        "## Esercizio 8: merge di due liste ordinate\n",
        "Uno degli algoritmi di ordinamento più efficienti è il Merge Sort, che si compone di due fasi: divisione e merge. è un algoritmo discretamente complesso, quindi non lo tratteremo interamente. Ci concentriamo invece sulla seconda parte, ovvero il merge.\n",
        "\n",
        "Scrivi una funzione `merge_lists(l1, l2)` che prende due liste ordinate `l1, l2` e ritorna una singla lista ordinata contenente gli elementi di queste due liste. Cerca di non usare `sorted()` o `list.sort()` nella soluzione dell'esercizio."
      ]
    },
    {
      "cell_type": "code",
      "execution_count": null,
      "metadata": {
        "id": "eVDuwir3VHR4"
      },
      "outputs": [],
      "source": [
        "def merge_lists(l1, l2):\n",
        "    ls = []\n",
        "    while len(l1) > 0 and len(l2) > 0:\n",
        "        if l1[0] <= l2[0]:\n",
        "            ls.append(l1[0])\n",
        "            l1 = l1[1:]\n",
        "        else:\n",
        "            ls.append(l2[0])\n",
        "            l2 = l2[1:]\n",
        "    if len(l1)>len(l2):\n",
        "        ls.extend(l1)\n",
        "    else:\n",
        "        ls.extend(l2)\n",
        "    return ls"
      ]
    },
    {
      "cell_type": "code",
      "execution_count": null,
      "metadata": {
        "id": "ErXNNSABVG2j"
      },
      "outputs": [],
      "source": [
        "assert merge_lists([1, 3, 6], [5, 7, 8, 9]) == [1, 3, 5, 6, 7, 8, 9]\n",
        "assert merge_lists([1, 2, 3], [4, 5]) == [1, 2, 3, 4, 5]\n",
        "assert merge_lists([4, 5], [1, 2, 3]) == [1, 2, 3, 4, 5]\n",
        "assert merge_lists([2, 2, 2], [2, 2, 2]) == [2, 2, 2, 2, 2, 2]\n",
        "assert merge_lists([1, 2, 3], []) == [1, 2, 3]\n",
        "assert merge_lists([], [1, 2, 3]) == [1, 2, 3]"
      ]
    },
    {
      "cell_type": "markdown",
      "metadata": {
        "id": "6uQ3EP7n7Z1S"
      },
      "source": [
        "## Esercizio 9: file CSV\n",
        "Un file CSV (Comma Separated Values) è un file di testo in cui ogni riga è un record (simile a una tabella di un DB) e usa la virgola (o altro carattere speciale) per delimitare i valori dei campi all'interno del record. Spesso inoltre presenta una priga riga (header) contenente il nome di ogni colonna. Questo tipo di file è molto usato, specie per contenere dataset (insiemi di dati).\n",
        "\n",
        "Le due celle di codice che seguono scaricano un famoso file CSV (un dataset contenente dati dei passeggeri del Titanic) e mostrano le prime righe di tale file."
      ]
    },
    {
      "cell_type": "code",
      "execution_count": 39,
      "metadata": {
        "colab": {
          "base_uri": "https://localhost:8080/"
        },
        "id": "qzKFXYi29TY4",
        "outputId": "6dbd066d-f0d8-4c04-957b-0e354db414d3"
      },
      "outputs": [
        {
          "output_type": "stream",
          "name": "stdout",
          "text": [
            "--2022-12-05 08:20:41--  https://raw.githubusercontent.com/datasciencedojo/datasets/master/titanic.csv\n",
            "Resolving raw.githubusercontent.com (raw.githubusercontent.com)... 185.199.110.133, 185.199.108.133, 185.199.109.133, ...\n",
            "Connecting to raw.githubusercontent.com (raw.githubusercontent.com)|185.199.110.133|:443... connected.\n",
            "HTTP request sent, awaiting response... 200 OK\n",
            "Length: 60302 (59K) [text/plain]\n",
            "Saving to: ‘titanic.csv’\n",
            "\n",
            "titanic.csv         100%[===================>]  58.89K  --.-KB/s    in 0.01s   \n",
            "\n",
            "2022-12-05 08:20:42 (4.97 MB/s) - ‘titanic.csv’ saved [60302/60302]\n",
            "\n"
          ]
        }
      ],
      "source": [
        "!wget https://raw.githubusercontent.com/datasciencedojo/datasets/master/titanic.csv"
      ]
    },
    {
      "cell_type": "code",
      "execution_count": 40,
      "metadata": {
        "colab": {
          "base_uri": "https://localhost:8080/"
        },
        "id": "IvugYqvT90St",
        "outputId": "f615803d-a806-44cd-a1cf-7cfe7d451357"
      },
      "outputs": [
        {
          "output_type": "stream",
          "name": "stdout",
          "text": [
            "PassengerId,Survived,Pclass,Name,Sex,Age,SibSp,Parch,Ticket,Fare,Cabin,Embarked\n",
            "1,0,3,\"Braund, Mr. Owen Harris\",male,22,1,0,A/5 21171,7.25,,S\n",
            "2,1,1,\"Cumings, Mrs. John Bradley (Florence Briggs Thayer)\",female,38,1,0,PC 17599,71.2833,C85,C\n",
            "3,1,3,\"Heikkinen, Miss. Laina\",female,26,0,0,STON/O2. 3101282,7.925,,S\n",
            "4,1,1,\"Futrelle, Mrs. Jacques Heath (Lily May Peel)\",female,35,1,0,113803,53.1,C123,S\n",
            "5,0,3,\"Allen, Mr. William Henry\",male,35,0,0,373450,8.05,,S\n",
            "6,0,3,\"Moran, Mr. James\",male,,0,0,330877,8.4583,,Q\n",
            "7,0,1,\"McCarthy, Mr. Timothy J\",male,54,0,0,17463,51.8625,E46,S\n",
            "8,0,3,\"Palsson, Master. Gosta Leonard\",male,2,3,1,349909,21.075,,S\n",
            "9,1,3,\"Johnson, Mrs. Oscar W (Elisabeth Vilhelmina Berg)\",female,27,0,2,347742,11.1333,,S\n"
          ]
        }
      ],
      "source": [
        "!head titanic.csv"
      ]
    },
    {
      "cell_type": "markdown",
      "metadata": {
        "id": "krWpDLjADLCz"
      },
      "source": [
        "Ad esempio, la prima colonna è l'ID del passeggero, la seconda indica se è sopravvissuto o meno (notare 0/1 anzichè True/False) e la terza la classe del passeggero. Notare che in generale un record potrebbe avere dei campi mancanti (ad esempio nel primo record il campo \"cabin\" è mancante, si nota dalle doppie virgole \",,\"). \n",
        "\n",
        "L'obiettivo è definire una funzione `load_data(file)` che legge il file e ritorna una struttura dati contenente tutti i dati di tutti i passeggeri. I campi mancanti devono avere valore `None`. La scelta della struttura sta a te, ad esempio si potrebbe usare un `dict` che ha come chiavi i nomi delle colonne, oppure una classe definita ad hoc. Idealmente, la struttura dati dovrebbe permettere di accedere a un particolare record in maniera rapida (es. tramite slicing `print(data[50])` o un metodo custom `print(data.get(50))` o come vi pare dovrei riuscire ad ottenere qualunque record in maniera semplice, in questo caso il 50esimo). Sarebbe ottimale avere la possibilità di effettuare slicing \"column-wise\", ovvero richiedere una singola colonna; ad esempio, `data['Name']` o `data.col['Name']` dovrebbe ritornare un iterabile contenente il nome di tutti i passeggeri.\n",
        "\n",
        "Fatto questo, computare qualche semplice statistica del dataset usando la vostra struttura dati. Qualche suggerimento: percentuale di uomini/donne a bordo, nome più (o meno) diffuso, costo medio del biglietto, distribuzione delle età (cioè: $x$ persone con 22 anni, $y$ persone con 23 anni, $z$ con 24 anni, ...)."
      ]
    },
    {
      "cell_type": "code",
      "execution_count": 128,
      "metadata": {
        "id": "Vi1dD5jKDK1D"
      },
      "outputs": [],
      "source": [
        "def load_data(file):\n",
        "    columns = file.readline().strip('\\n').split(',')\n",
        "    dictionary = {k:[] for k in columns}\n",
        "    for line in file:\n",
        "        line = line.replace('\"\"', '𐩕')\n",
        "        ls = line.split('\"')                \n",
        "        li = []\n",
        "        for i in range(len(ls)):\n",
        "          if i%2 == 0: \n",
        "            li.extend(ls[i].strip(',\\n').split(','))\n",
        "          else:\n",
        "            li.append(ls[i].strip().replace('𐩕', '\"\"'))    \n",
        "        for i in range(len(li)):\n",
        "            #print(columns[i], li[i])\n",
        "            if li[i] == '':\n",
        "                dictionary[columns[i]].append(None)\n",
        "            else:\n",
        "                dictionary[columns[i]].append(li[i])\n",
        "    return dictionary\n",
        "\n",
        "def getEntry(d, parameter, value):\n",
        "    value = str(value)\n",
        "    ls = []\n",
        "    try:\n",
        "      index = d[parameter].index(value)\n",
        "    except(ValueError):\n",
        "      return 'Valore non presente nel campo specificato'\n",
        "    for i in d.values():\n",
        "      ls.append(i[index])\n",
        "    return ls\n",
        "\n",
        "def getAverage(d, parameter):\n",
        "    sum = 0\n",
        "    for i in d[parameter]:\n",
        "      if i != None:  \n",
        "        try:\n",
        "          i = float(i)\n",
        "        except(ValueError):\n",
        "          return 'Tipo invalido (prova ad usare valori numerici)'\n",
        "        sum += i\n",
        "    return round(sum/len(d[parameter]), 2)\n",
        "    \n",
        "#funzionante su colab ma non su Jupyter hostato localmente "
      ]
    },
    {
      "cell_type": "code",
      "source": [
        "test = load_data(open('titanic.csv', 'r'))\n",
        "for k, v in test.items():\n",
        "  print(f\"{k}: {v}\")\n",
        "\n",
        "print(getAverage(test, \"Survived\"))\n",
        "print(getEntry(test, \"PassengerId\", 420))\n",
        "print(getEntry(test, \"Name\", 'Collyer, Miss. Marjorie \"\"Lottie\"\"'))\n",
        "print(getEntry(test, \"Ticket\", \"LINE\"))"
      ],
      "metadata": {
        "id": "PylZgX5HuR1n",
        "outputId": "f6b77330-59c3-46f6-9044-07956f4020ee",
        "colab": {
          "base_uri": "https://localhost:8080/"
        }
      },
      "execution_count": 129,
      "outputs": [
        {
          "output_type": "stream",
          "name": "stdout",
          "text": [
            "PassengerId: ['1', '2', '3', '4', '5', '6', '7', '8', '9', '10', '11', '12', '13', '14', '15', '16', '17', '18', '19', '20', '21', '22', '23', '24', '25', '26', '27', '28', '29', '30', '31', '32', '33', '34', '35', '36', '37', '38', '39', '40', '41', '42', '43', '44', '45', '46', '47', '48', '49', '50', '51', '52', '53', '54', '55', '56', '57', '58', '59', '60', '61', '62', '63', '64', '65', '66', '67', '68', '69', '70', '71', '72', '73', '74', '75', '76', '77', '78', '79', '80', '81', '82', '83', '84', '85', '86', '87', '88', '89', '90', '91', '92', '93', '94', '95', '96', '97', '98', '99', '100', '101', '102', '103', '104', '105', '106', '107', '108', '109', '110', '111', '112', '113', '114', '115', '116', '117', '118', '119', '120', '121', '122', '123', '124', '125', '126', '127', '128', '129', '130', '131', '132', '133', '134', '135', '136', '137', '138', '139', '140', '141', '142', '143', '144', '145', '146', '147', '148', '149', '150', '151', '152', '153', '154', '155', '156', '157', '158', '159', '160', '161', '162', '163', '164', '165', '166', '167', '168', '169', '170', '171', '172', '173', '174', '175', '176', '177', '178', '179', '180', '181', '182', '183', '184', '185', '186', '187', '188', '189', '190', '191', '192', '193', '194', '195', '196', '197', '198', '199', '200', '201', '202', '203', '204', '205', '206', '207', '208', '209', '210', '211', '212', '213', '214', '215', '216', '217', '218', '219', '220', '221', '222', '223', '224', '225', '226', '227', '228', '229', '230', '231', '232', '233', '234', '235', '236', '237', '238', '239', '240', '241', '242', '243', '244', '245', '246', '247', '248', '249', '250', '251', '252', '253', '254', '255', '256', '257', '258', '259', '260', '261', '262', '263', '264', '265', '266', '267', '268', '269', '270', '271', '272', '273', '274', '275', '276', '277', '278', '279', '280', '281', '282', '283', '284', '285', '286', '287', '288', '289', '290', '291', '292', '293', '294', '295', '296', '297', '298', '299', '300', '301', '302', '303', '304', '305', '306', '307', '308', '309', '310', '311', '312', '313', '314', '315', '316', '317', '318', '319', '320', '321', '322', '323', '324', '325', '326', '327', '328', '329', '330', '331', '332', '333', '334', '335', '336', '337', '338', '339', '340', '341', '342', '343', '344', '345', '346', '347', '348', '349', '350', '351', '352', '353', '354', '355', '356', '357', '358', '359', '360', '361', '362', '363', '364', '365', '366', '367', '368', '369', '370', '371', '372', '373', '374', '375', '376', '377', '378', '379', '380', '381', '382', '383', '384', '385', '386', '387', '388', '389', '390', '391', '392', '393', '394', '395', '396', '397', '398', '399', '400', '401', '402', '403', '404', '405', '406', '407', '408', '409', '410', '411', '412', '413', '414', '415', '416', '417', '418', '419', '420', '421', '422', '423', '424', '425', '426', '427', '428', '429', '430', '431', '432', '433', '434', '435', '436', '437', '438', '439', '440', '441', '442', '443', '444', '445', '446', '447', '448', '449', '450', '451', '452', '453', '454', '455', '456', '457', '458', '459', '460', '461', '462', '463', '464', '465', '466', '467', '468', '469', '470', '471', '472', '473', '474', '475', '476', '477', '478', '479', '480', '481', '482', '483', '484', '485', '486', '487', '488', '489', '490', '491', '492', '493', '494', '495', '496', '497', '498', '499', '500', '501', '502', '503', '504', '505', '506', '507', '508', '509', '510', '511', '512', '513', '514', '515', '516', '517', '518', '519', '520', '521', '522', '523', '524', '525', '526', '527', '528', '529', '530', '531', '532', '533', '534', '535', '536', '537', '538', '539', '540', '541', '542', '543', '544', '545', '546', '547', '548', '549', '550', '551', '552', '553', '554', '555', '556', '557', '558', '559', '560', '561', '562', '563', '564', '565', '566', '567', '568', '569', '570', '571', '572', '573', '574', '575', '576', '577', '578', '579', '580', '581', '582', '583', '584', '585', '586', '587', '588', '589', '590', '591', '592', '593', '594', '595', '596', '597', '598', '599', '600', '601', '602', '603', '604', '605', '606', '607', '608', '609', '610', '611', '612', '613', '614', '615', '616', '617', '618', '619', '620', '621', '622', '623', '624', '625', '626', '627', '628', '629', '630', '631', '632', '633', '634', '635', '636', '637', '638', '639', '640', '641', '642', '643', '644', '645', '646', '647', '648', '649', '650', '651', '652', '653', '654', '655', '656', '657', '658', '659', '660', '661', '662', '663', '664', '665', '666', '667', '668', '669', '670', '671', '672', '673', '674', '675', '676', '677', '678', '679', '680', '681', '682', '683', '684', '685', '686', '687', '688', '689', '690', '691', '692', '693', '694', '695', '696', '697', '698', '699', '700', '701', '702', '703', '704', '705', '706', '707', '708', '709', '710', '711', '712', '713', '714', '715', '716', '717', '718', '719', '720', '721', '722', '723', '724', '725', '726', '727', '728', '729', '730', '731', '732', '733', '734', '735', '736', '737', '738', '739', '740', '741', '742', '743', '744', '745', '746', '747', '748', '749', '750', '751', '752', '753', '754', '755', '756', '757', '758', '759', '760', '761', '762', '763', '764', '765', '766', '767', '768', '769', '770', '771', '772', '773', '774', '775', '776', '777', '778', '779', '780', '781', '782', '783', '784', '785', '786', '787', '788', '789', '790', '791', '792', '793', '794', '795', '796', '797', '798', '799', '800', '801', '802', '803', '804', '805', '806', '807', '808', '809', '810', '811', '812', '813', '814', '815', '816', '817', '818', '819', '820', '821', '822', '823', '824', '825', '826', '827', '828', '829', '830', '831', '832', '833', '834', '835', '836', '837', '838', '839', '840', '841', '842', '843', '844', '845', '846', '847', '848', '849', '850', '851', '852', '853', '854', '855', '856', '857', '858', '859', '860', '861', '862', '863', '864', '865', '866', '867', '868', '869', '870', '871', '872', '873', '874', '875', '876', '877', '878', '879', '880', '881', '882', '883', '884', '885', '886', '887', '888', '889', '890', '891']\n",
            "Survived: ['0', '1', '1', '1', '0', '0', '0', '0', '1', '1', '1', '1', '0', '0', '0', '1', '0', '1', '0', '1', '0', '1', '1', '1', '0', '1', '0', '0', '1', '0', '0', '1', '1', '0', '0', '0', '1', '0', '0', '1', '0', '0', '0', '1', '1', '0', '0', '1', '0', '0', '0', '0', '1', '1', '0', '1', '1', '0', '1', '0', '0', '1', '0', '0', '0', '1', '1', '0', '1', '0', '0', '0', '0', '0', '1', '0', '0', '0', '1', '1', '0', '1', '1', '0', '1', '1', '0', '0', '1', '0', '0', '0', '0', '0', '0', '0', '0', '1', '1', '0', '0', '0', '0', '0', '0', '0', '1', '1', '0', '1', '0', '0', '0', '0', '0', '0', '0', '0', '0', '0', '0', '0', '0', '1', '0', '1', '0', '1', '1', '0', '0', '0', '0', '1', '0', '0', '1', '0', '0', '0', '0', '1', '1', '0', '0', '0', '1', '0', '0', '0', '0', '1', '0', '0', '0', '0', '1', '0', '0', '0', '0', '1', '0', '0', '0', '1', '1', '0', '0', '0', '0', '0', '1', '0', '0', '0', '0', '0', '0', '0', '0', '0', '0', '1', '1', '0', '1', '1', '0', '0', '1', '0', '1', '1', '1', '1', '0', '0', '1', '0', '0', '0', '0', '0', '1', '0', '0', '1', '1', '1', '0', '1', '0', '0', '0', '1', '1', '0', '1', '0', '1', '0', '0', '0', '1', '0', '1', '0', '0', '0', '1', '0', '0', '1', '0', '0', '0', '1', '0', '0', '0', '1', '0', '0', '0', '0', '0', '1', '1', '0', '0', '0', '0', '0', '0', '1', '1', '1', '1', '1', '0', '1', '0', '0', '0', '0', '0', '1', '1', '1', '0', '1', '1', '0', '1', '1', '0', '0', '0', '1', '0', '0', '0', '1', '0', '0', '1', '0', '1', '1', '1', '1', '0', '0', '0', '0', '0', '0', '1', '1', '1', '1', '0', '1', '0', '1', '1', '1', '0', '1', '1', '1', '0', '0', '0', '1', '1', '0', '1', '1', '0', '0', '1', '1', '0', '1', '0', '1', '1', '1', '1', '0', '0', '0', '1', '0', '0', '1', '1', '0', '1', '1', '0', '0', '0', '1', '1', '1', '1', '0', '0', '0', '0', '0', '0', '0', '1', '0', '1', '1', '0', '0', '0', '0', '0', '0', '1', '1', '1', '1', '1', '0', '0', '0', '0', '1', '1', '0', '0', '0', '1', '1', '0', '1', '0', '0', '0', '1', '0', '1', '1', '1', '0', '1', '1', '0', '0', '0', '0', '1', '1', '0', '0', '0', '0', '0', '0', '1', '0', '0', '0', '0', '1', '0', '1', '0', '1', '1', '0', '0', '0', '0', '0', '0', '0', '0', '1', '1', '0', '1', '1', '1', '1', '0', '0', '1', '0', '1', '0', '0', '1', '0', '0', '1', '1', '1', '1', '1', '1', '1', '0', '0', '0', '1', '0', '1', '0', '1', '1', '0', '1', '0', '0', '0', '0', '0', '0', '0', '0', '1', '0', '0', '1', '1', '0', '0', '0', '0', '0', '1', '0', '0', '0', '1', '1', '0', '1', '0', '0', '1', '0', '0', '0', '0', '0', '0', '1', '0', '0', '0', '0', '0', '0', '0', '1', '0', '1', '1', '0', '1', '1', '0', '1', '1', '0', '0', '1', '0', '1', '0', '1', '0', '0', '1', '0', '0', '1', '0', '0', '0', '1', '0', '0', '1', '0', '1', '0', '1', '0', '1', '1', '0', '0', '1', '0', '0', '1', '1', '0', '1', '1', '0', '0', '1', '1', '0', '1', '0', '1', '1', '0', '0', '0', '0', '0', '0', '0', '0', '0', '1', '1', '1', '1', '1', '0', '0', '1', '1', '0', '1', '1', '1', '0', '0', '0', '1', '0', '1', '0', '0', '0', '1', '0', '0', '0', '0', '1', '0', '0', '1', '1', '0', '0', '0', '1', '0', '0', '1', '1', '1', '0', '0', '1', '0', '0', '1', '0', '0', '1', '0', '0', '1', '1', '0', '0', '0', '0', '1', '0', '0', '1', '0', '1', '0', '0', '1', '0', '0', '0', '0', '0', '1', '0', '1', '1', '1', '0', '1', '0', '1', '0', '1', '0', '1', '0', '0', '0', '0', '0', '0', '1', '0', '0', '0', '1', '0', '0', '0', '0', '1', '1', '0', '0', '1', '0', '0', '0', '1', '0', '1', '0', '1', '0', '0', '0', '0', '0', '0', '0', '1', '1', '1', '1', '0', '0', '0', '0', '1', '0', '0', '1', '1', '0', '0', '0', '0', '1', '1', '1', '1', '1', '0', '1', '0', '0', '0', '1', '1', '0', '0', '1', '0', '0', '0', '1', '0', '1', '1', '0', '0', '1', '0', '0', '0', '0', '0', '0', '1', '0', '0', '1', '0', '1', '0', '1', '0', '0', '1', '0', '0', '1', '1', '0', '0', '1', '1', '0', '0', '0', '1', '0', '0', '1', '1', '0', '1', '0', '0', '0', '0', '0', '0', '0', '0', '1', '0', '0', '1', '0', '1', '1', '1', '0', '0', '0', '0', '1', '0', '1', '0', '0', '0', '0', '0', '0', '0', '1', '1', '0', '0', '0', '1', '1', '1', '1', '0', '0', '0', '0', '1', '0', '0', '0', '0', '0', '0', '0', '0', '0', '0', '1', '1', '0', '1', '0', '0', '0', '1', '1', '1', '1', '1', '0', '0', '0', '1', '0', '0', '1', '1', '0', '0', '1', '0', '0', '0', '0', '0', '0', '1', '0', '0', '0', '1', '0', '1', '1', '1', '1', '0', '0', '0', '1', '0', '0', '1', '1', '0', '0', '1', '0', '1', '0', '0', '1', '1', '0', '0', '0', '1', '1', '0', '0', '0', '0', '0', '0', '1', '0', '1', '0']\n",
            "Pclass: ['3', '1', '3', '1', '3', '3', '1', '3', '3', '2', '3', '1', '3', '3', '3', '2', '3', '2', '3', '3', '2', '2', '3', '1', '3', '3', '3', '1', '3', '3', '1', '1', '3', '2', '1', '1', '3', '3', '3', '3', '3', '2', '3', '2', '3', '3', '3', '3', '3', '3', '3', '3', '1', '2', '1', '1', '2', '3', '2', '3', '3', '1', '1', '3', '1', '3', '2', '3', '3', '3', '2', '3', '2', '3', '3', '3', '3', '3', '2', '3', '3', '3', '3', '1', '2', '3', '3', '3', '1', '3', '3', '3', '1', '3', '3', '3', '1', '1', '2', '2', '3', '3', '1', '3', '3', '3', '3', '3', '3', '3', '1', '3', '3', '3', '3', '3', '3', '2', '1', '3', '2', '3', '2', '2', '1', '3', '3', '3', '3', '3', '3', '3', '3', '2', '2', '2', '1', '1', '3', '1', '3', '3', '3', '3', '2', '2', '3', '3', '2', '2', '2', '1', '3', '3', '3', '1', '3', '3', '3', '3', '3', '2', '3', '3', '3', '3', '1', '3', '1', '3', '1', '3', '3', '3', '1', '3', '3', '1', '2', '3', '3', '2', '3', '2', '3', '1', '3', '1', '3', '3', '2', '2', '3', '2', '1', '1', '3', '3', '3', '2', '3', '3', '3', '3', '3', '3', '3', '3', '3', '1', '3', '2', '3', '2', '3', '1', '3', '2', '1', '2', '3', '2', '3', '3', '1', '3', '2', '3', '2', '3', '1', '3', '2', '3', '2', '3', '2', '2', '2', '2', '3', '3', '2', '3', '3', '1', '3', '2', '1', '2', '3', '3', '1', '3', '3', '3', '1', '1', '1', '2', '3', '3', '1', '1', '3', '2', '3', '3', '1', '1', '1', '3', '2', '1', '3', '1', '3', '2', '3', '3', '3', '3', '3', '3', '1', '3', '3', '3', '2', '3', '1', '1', '2', '3', '3', '1', '3', '1', '1', '1', '3', '3', '3', '2', '3', '1', '1', '1', '2', '1', '1', '1', '2', '3', '2', '3', '2', '2', '1', '1', '3', '3', '2', '2', '3', '1', '3', '2', '3', '1', '3', '1', '1', '3', '1', '3', '1', '1', '3', '1', '2', '1', '2', '2', '2', '2', '2', '3', '3', '3', '3', '1', '3', '3', '3', '3', '1', '2', '3', '3', '3', '2', '3', '3', '3', '3', '1', '3', '3', '1', '1', '3', '3', '1', '3', '1', '3', '1', '3', '3', '1', '3', '3', '1', '3', '2', '3', '2', '3', '2', '1', '3', '3', '1', '3', '3', '3', '2', '2', '2', '3', '3', '3', '3', '3', '2', '3', '2', '3', '3', '3', '3', '1', '2', '3', '3', '2', '2', '2', '3', '3', '3', '3', '3', '3', '3', '2', '2', '3', '3', '1', '3', '2', '3', '1', '1', '3', '2', '1', '2', '2', '3', '3', '2', '3', '1', '2', '1', '3', '1', '2', '3', '1', '1', '3', '3', '1', '1', '2', '3', '1', '3', '1', '2', '3', '3', '2', '1', '3', '3', '3', '3', '2', '2', '3', '1', '2', '3', '3', '3', '3', '2', '3', '3', '1', '3', '1', '1', '3', '3', '3', '3', '1', '1', '3', '3', '1', '3', '1', '3', '3', '3', '3', '3', '1', '1', '2', '1', '3', '3', '3', '3', '1', '1', '3', '1', '2', '3', '2', '3', '1', '3', '3', '1', '3', '3', '2', '1', '3', '2', '2', '3', '3', '3', '3', '2', '1', '1', '3', '1', '1', '3', '3', '2', '1', '1', '2', '2', '3', '2', '1', '2', '3', '3', '3', '1', '1', '1', '1', '3', '3', '3', '2', '3', '3', '3', '3', '3', '3', '3', '2', '1', '1', '3', '3', '3', '2', '1', '3', '3', '2', '1', '2', '1', '3', '1', '2', '1', '3', '3', '3', '1', '3', '3', '2', '3', '2', '3', '3', '1', '2', '3', '1', '3', '1', '3', '3', '1', '2', '1', '3', '3', '3', '3', '3', '2', '3', '3', '2', '2', '3', '1', '3', '3', '3', '1', '2', '1', '3', '3', '1', '3', '1', '1', '3', '2', '3', '2', '3', '3', '3', '1', '3', '3', '3', '1', '3', '1', '3', '3', '3', '2', '3', '3', '3', '2', '3', '3', '2', '1', '1', '3', '1', '3', '3', '2', '2', '3', '3', '1', '2', '1', '2', '2', '2', '3', '3', '3', '3', '1', '3', '1', '3', '3', '2', '2', '3', '3', '3', '1', '1', '3', '3', '3', '1', '2', '3', '3', '1', '3', '1', '1', '3', '3', '3', '2', '2', '1', '1', '3', '1', '1', '1', '3', '2', '3', '1', '2', '3', '3', '2', '3', '2', '2', '1', '3', '2', '3', '2', '3', '1', '3', '2', '2', '2', '3', '3', '1', '3', '3', '1', '1', '1', '3', '3', '1', '3', '2', '1', '3', '2', '3', '3', '3', '2', '2', '3', '2', '3', '1', '3', '3', '3', '1', '3', '1', '1', '3', '3', '3', '3', '3', '2', '3', '2', '3', '3', '3', '3', '1', '3', '1', '1', '3', '3', '3', '3', '3', '3', '1', '3', '2', '3', '1', '3', '2', '1', '3', '3', '3', '2', '2', '1', '3', '3', '3', '1', '3', '2', '1', '3', '3', '2', '3', '3', '1', '3', '2', '3', '3', '1', '3', '1', '3', '3', '3', '3', '2', '3', '1', '3', '2', '3', '3', '3', '1', '3', '3', '3', '1', '3', '2', '1', '3', '3', '3', '3', '3', '2', '1', '3', '3', '3', '1', '2', '3', '1', '1', '3', '3', '3', '2', '1', '3', '2', '2', '2', '1', '3', '3', '3', '1', '1', '3', '2', '3', '3', '3', '3', '1', '2', '3', '3', '2', '3', '3', '2', '1', '3', '1', '3']\n",
            "Name: ['Braund, Mr. Owen Harris', 'Cumings, Mrs. John Bradley (Florence Briggs Thayer)', 'Heikkinen, Miss. Laina', 'Futrelle, Mrs. Jacques Heath (Lily May Peel)', 'Allen, Mr. William Henry', 'Moran, Mr. James', 'McCarthy, Mr. Timothy J', 'Palsson, Master. Gosta Leonard', 'Johnson, Mrs. Oscar W (Elisabeth Vilhelmina Berg)', 'Nasser, Mrs. Nicholas (Adele Achem)', 'Sandstrom, Miss. Marguerite Rut', 'Bonnell, Miss. Elizabeth', 'Saundercock, Mr. William Henry', 'Andersson, Mr. Anders Johan', 'Vestrom, Miss. Hulda Amanda Adolfina', 'Hewlett, Mrs. (Mary D Kingcome)', 'Rice, Master. Eugene', 'Williams, Mr. Charles Eugene', 'Vander Planke, Mrs. Julius (Emelia Maria Vandemoortele)', 'Masselmani, Mrs. Fatima', 'Fynney, Mr. Joseph J', 'Beesley, Mr. Lawrence', 'McGowan, Miss. Anna \"\"Annie\"\"', 'Sloper, Mr. William Thompson', 'Palsson, Miss. Torborg Danira', 'Asplund, Mrs. Carl Oscar (Selma Augusta Emilia Johansson)', 'Emir, Mr. Farred Chehab', 'Fortune, Mr. Charles Alexander', 'O\\'Dwyer, Miss. Ellen \"\"Nellie\"\"', 'Todoroff, Mr. Lalio', 'Uruchurtu, Don. Manuel E', 'Spencer, Mrs. William Augustus (Marie Eugenie)', 'Glynn, Miss. Mary Agatha', 'Wheadon, Mr. Edward H', 'Meyer, Mr. Edgar Joseph', 'Holverson, Mr. Alexander Oskar', 'Mamee, Mr. Hanna', 'Cann, Mr. Ernest Charles', 'Vander Planke, Miss. Augusta Maria', 'Nicola-Yarred, Miss. Jamila', 'Ahlin, Mrs. Johan (Johanna Persdotter Larsson)', 'Turpin, Mrs. William John Robert (Dorothy Ann Wonnacott)', 'Kraeff, Mr. Theodor', 'Laroche, Miss. Simonne Marie Anne Andree', 'Devaney, Miss. Margaret Delia', 'Rogers, Mr. William John', 'Lennon, Mr. Denis', \"O'Driscoll, Miss. Bridget\", 'Samaan, Mr. Youssef', 'Arnold-Franchi, Mrs. Josef (Josefine Franchi)', 'Panula, Master. Juha Niilo', 'Nosworthy, Mr. Richard Cater', 'Harper, Mrs. Henry Sleeper (Myna Haxtun)', 'Faunthorpe, Mrs. Lizzie (Elizabeth Anne Wilkinson)', 'Ostby, Mr. Engelhart Cornelius', 'Woolner, Mr. Hugh', 'Rugg, Miss. Emily', 'Novel, Mr. Mansouer', 'West, Miss. Constance Mirium', 'Goodwin, Master. William Frederick', 'Sirayanian, Mr. Orsen', 'Icard, Miss. Amelie', 'Harris, Mr. Henry Birkhardt', 'Skoog, Master. Harald', 'Stewart, Mr. Albert A', 'Moubarek, Master. Gerios', 'Nye, Mrs. (Elizabeth Ramell)', 'Crease, Mr. Ernest James', 'Andersson, Miss. Erna Alexandra', 'Kink, Mr. Vincenz', 'Jenkin, Mr. Stephen Curnow', 'Goodwin, Miss. Lillian Amy', 'Hood, Mr. Ambrose Jr', 'Chronopoulos, Mr. Apostolos', 'Bing, Mr. Lee', 'Moen, Mr. Sigurd Hansen', 'Staneff, Mr. Ivan', 'Moutal, Mr. Rahamin Haim', 'Caldwell, Master. Alden Gates', 'Dowdell, Miss. Elizabeth', 'Waelens, Mr. Achille', 'Sheerlinck, Mr. Jan Baptist', 'McDermott, Miss. Brigdet Delia', 'Carrau, Mr. Francisco M', 'Ilett, Miss. Bertha', 'Backstrom, Mrs. Karl Alfred (Maria Mathilda Gustafsson)', 'Ford, Mr. William Neal', 'Slocovski, Mr. Selman Francis', 'Fortune, Miss. Mabel Helen', 'Celotti, Mr. Francesco', 'Christmann, Mr. Emil', 'Andreasson, Mr. Paul Edvin', 'Chaffee, Mr. Herbert Fuller', 'Dean, Mr. Bertram Frank', 'Coxon, Mr. Daniel', 'Shorney, Mr. Charles Joseph', 'Goldschmidt, Mr. George B', 'Greenfield, Mr. William Bertram', 'Doling, Mrs. John T (Ada Julia Bone)', 'Kantor, Mr. Sinai', 'Petranec, Miss. Matilda', 'Petroff, Mr. Pastcho (\"\"Pentcho\"\")', 'White, Mr. Richard Frasar', 'Johansson, Mr. Gustaf Joel', 'Gustafsson, Mr. Anders Vilhelm', 'Mionoff, Mr. Stoytcho', 'Salkjelsvik, Miss. Anna Kristine', 'Moss, Mr. Albert Johan', 'Rekic, Mr. Tido', 'Moran, Miss. Bertha', 'Porter, Mr. Walter Chamberlain', 'Zabour, Miss. Hileni', 'Barton, Mr. David John', 'Jussila, Miss. Katriina', 'Attalah, Miss. Malake', 'Pekoniemi, Mr. Edvard', 'Connors, Mr. Patrick', 'Turpin, Mr. William John Robert', 'Baxter, Mr. Quigg Edmond', 'Andersson, Miss. Ellis Anna Maria', 'Hickman, Mr. Stanley George', 'Moore, Mr. Leonard Charles', 'Nasser, Mr. Nicholas', 'Webber, Miss. Susan', 'White, Mr. Percival Wayland', 'Nicola-Yarred, Master. Elias', 'McMahon, Mr. Martin', 'Madsen, Mr. Fridtjof Arne', 'Peter, Miss. Anna', 'Ekstrom, Mr. Johan', 'Drazenoic, Mr. Jozef', 'Coelho, Mr. Domingos Fernandeo', 'Robins, Mrs. Alexander A (Grace Charity Laury)', 'Weisz, Mrs. Leopold (Mathilde Francoise Pede)', 'Sobey, Mr. Samuel James Hayden', 'Richard, Mr. Emile', 'Newsom, Miss. Helen Monypeny', 'Futrelle, Mr. Jacques Heath', 'Osen, Mr. Olaf Elon', 'Giglio, Mr. Victor', 'Boulos, Mrs. Joseph (Sultana)', 'Nysten, Miss. Anna Sofia', 'Hakkarainen, Mrs. Pekka Pietari (Elin Matilda Dolck)', 'Burke, Mr. Jeremiah', 'Andrew, Mr. Edgardo Samuel', 'Nicholls, Mr. Joseph Charles', 'Andersson, Mr. August Edvard (\"\"Wennerstrom\"\")', 'Ford, Miss. Robina Maggie \"\"Ruby\"\"', 'Navratil, Mr. Michel (\"\"Louis M Hoffman\"\")', 'Byles, Rev. Thomas Roussel Davids', 'Bateman, Rev. Robert James', 'Pears, Mrs. Thomas (Edith Wearne)', 'Meo, Mr. Alfonzo', 'van Billiard, Mr. Austin Blyler', 'Olsen, Mr. Ole Martin', 'Williams, Mr. Charles Duane', 'Gilnagh, Miss. Katherine \"\"Katie\"\"', 'Corn, Mr. Harry', 'Smiljanic, Mr. Mile', 'Sage, Master. Thomas Henry', 'Cribb, Mr. John Hatfield', 'Watt, Mrs. James (Elizabeth \"\"Bessie\"\" Inglis Milne)', 'Bengtsson, Mr. John Viktor', 'Calic, Mr. Jovo', 'Panula, Master. Eino Viljami', 'Goldsmith, Master. Frank John William \"\"Frankie\"\"', 'Chibnall, Mrs. (Edith Martha Bowerman)', 'Skoog, Mrs. William (Anna Bernhardina Karlsson)', 'Baumann, Mr. John D', 'Ling, Mr. Lee', 'Van der hoef, Mr. Wyckoff', 'Rice, Master. Arthur', 'Johnson, Miss. Eleanor Ileen', 'Sivola, Mr. Antti Wilhelm', 'Smith, Mr. James Clinch', 'Klasen, Mr. Klas Albin', 'Lefebre, Master. Henry Forbes', 'Isham, Miss. Ann Elizabeth', 'Hale, Mr. Reginald', 'Leonard, Mr. Lionel', 'Sage, Miss. Constance Gladys', 'Pernot, Mr. Rene', 'Asplund, Master. Clarence Gustaf Hugo', 'Becker, Master. Richard F', 'Kink-Heilmann, Miss. Luise Gretchen', 'Rood, Mr. Hugh Roscoe', 'O\\'Brien, Mrs. Thomas (Johanna \"\"Hannah\"\" Godfrey)', 'Romaine, Mr. Charles Hallace (\"\"Mr C Rolmane\"\")', 'Bourke, Mr. John', 'Turcin, Mr. Stjepan', 'Pinsky, Mrs. (Rosa)', 'Carbines, Mr. William', 'Andersen-Jensen, Miss. Carla Christine Nielsine', 'Navratil, Master. Michel M', 'Brown, Mrs. James Joseph (Margaret Tobin)', 'Lurette, Miss. Elise', 'Mernagh, Mr. Robert', 'Olsen, Mr. Karl Siegwart Andreas', 'Madigan, Miss. Margaret \"\"Maggie\"\"', 'Yrois, Miss. Henriette (\"\"Mrs Harbeck\"\")', 'Vande Walle, Mr. Nestor Cyriel', 'Sage, Mr. Frederick', 'Johanson, Mr. Jakob Alfred', 'Youseff, Mr. Gerious', 'Cohen, Mr. Gurshon \"\"Gus\"\"', 'Strom, Miss. Telma Matilda', 'Backstrom, Mr. Karl Alfred', 'Albimona, Mr. Nassef Cassem', 'Carr, Miss. Helen \"\"Ellen\"\"', 'Blank, Mr. Henry', 'Ali, Mr. Ahmed', 'Cameron, Miss. Clear Annie', 'Perkin, Mr. John Henry', 'Givard, Mr. Hans Kristensen', 'Kiernan, Mr. Philip', 'Newell, Miss. Madeleine', 'Honkanen, Miss. Eliina', 'Jacobsohn, Mr. Sidney Samuel', 'Bazzani, Miss. Albina', 'Harris, Mr. Walter', 'Sunderland, Mr. Victor Francis', 'Bracken, Mr. James H', 'Green, Mr. George Henry', 'Nenkoff, Mr. Christo', 'Hoyt, Mr. Frederick Maxfield', 'Berglund, Mr. Karl Ivar Sven', 'Mellors, Mr. William John', 'Lovell, Mr. John Hall (\"\"Henry\"\")', 'Fahlstrom, Mr. Arne Jonas', 'Lefebre, Miss. Mathilde', 'Harris, Mrs. Henry Birkhardt (Irene Wallach)', 'Larsson, Mr. Bengt Edvin', 'Sjostedt, Mr. Ernst Adolf', 'Asplund, Miss. Lillian Gertrud', 'Leyson, Mr. Robert William Norman', 'Harknett, Miss. Alice Phoebe', 'Hold, Mr. Stephen', 'Collyer, Miss. Marjorie \"\"Lottie\"\"', 'Pengelly, Mr. Frederick William', 'Hunt, Mr. George Henry', 'Zabour, Miss. Thamine', 'Murphy, Miss. Katherine \"\"Kate\"\"', 'Coleridge, Mr. Reginald Charles', 'Maenpaa, Mr. Matti Alexanteri', 'Attalah, Mr. Sleiman', 'Minahan, Dr. William Edward', 'Lindahl, Miss. Agda Thorilda Viktoria', 'Hamalainen, Mrs. William (Anna)', 'Beckwith, Mr. Richard Leonard', 'Carter, Rev. Ernest Courtenay', 'Reed, Mr. James George', 'Strom, Mrs. Wilhelm (Elna Matilda Persson)', 'Stead, Mr. William Thomas', 'Lobb, Mr. William Arthur', 'Rosblom, Mrs. Viktor (Helena Wilhelmina)', 'Touma, Mrs. Darwis (Hanne Youssef Razi)', 'Thorne, Mrs. Gertrude Maybelle', 'Cherry, Miss. Gladys', 'Ward, Miss. Anna', 'Parrish, Mrs. (Lutie Davis)', 'Smith, Mr. Thomas', 'Asplund, Master. Edvin Rojj Felix', 'Taussig, Mr. Emil', 'Harrison, Mr. William', 'Henry, Miss. Delia', 'Reeves, Mr. David', 'Panula, Mr. Ernesti Arvid', 'Persson, Mr. Ernst Ulrik', 'Graham, Mrs. William Thompson (Edith Junkins)', 'Bissette, Miss. Amelia', 'Cairns, Mr. Alexander', 'Tornquist, Mr. William Henry', 'Mellinger, Mrs. (Elizabeth Anne Maidment)', 'Natsch, Mr. Charles H', 'Healy, Miss. Hanora \"\"Nora\"\"', 'Andrews, Miss. Kornelia Theodosia', 'Lindblom, Miss. Augusta Charlotta', 'Parkes, Mr. Francis \"\"Frank\"\"', 'Rice, Master. Eric', 'Abbott, Mrs. Stanton (Rosa Hunt)', 'Duane, Mr. Frank', 'Olsson, Mr. Nils Johan Goransson', 'de Pelsmaeker, Mr. Alfons', 'Dorking, Mr. Edward Arthur', 'Smith, Mr. Richard William', 'Stankovic, Mr. Ivan', 'de Mulder, Mr. Theodore', 'Naidenoff, Mr. Penko', 'Hosono, Mr. Masabumi', 'Connolly, Miss. Kate', 'Barber, Miss. Ellen \"\"Nellie\"\"', 'Bishop, Mrs. Dickinson H (Helen Walton)', 'Levy, Mr. Rene Jacques', 'Haas, Miss. Aloisia', 'Mineff, Mr. Ivan', 'Lewy, Mr. Ervin G', 'Hanna, Mr. Mansour', 'Allison, Miss. Helen Loraine', 'Saalfeld, Mr. Adolphe', 'Baxter, Mrs. James (Helene DeLaudeniere Chaput)', 'Kelly, Miss. Anna Katherine \"\"Annie Kate\"\"', 'McCoy, Mr. Bernard', 'Johnson, Mr. William Cahoone Jr', 'Keane, Miss. Nora A', 'Williams, Mr. Howard Hugh \"\"Harry\"\"', 'Allison, Master. Hudson Trevor', 'Fleming, Miss. Margaret', 'Penasco y Castellana, Mrs. Victor de Satode (Maria Josefa Perez de Soto y Vallejo)', 'Abelson, Mr. Samuel', 'Francatelli, Miss. Laura Mabel', 'Hays, Miss. Margaret Bechstein', 'Ryerson, Miss. Emily Borie', 'Lahtinen, Mrs. William (Anna Sylfven)', 'Hendekovic, Mr. Ignjac', 'Hart, Mr. Benjamin', 'Nilsson, Miss. Helmina Josefina', 'Kantor, Mrs. Sinai (Miriam Sternin)', 'Moraweck, Dr. Ernest', 'Wick, Miss. Mary Natalie', 'Spedden, Mrs. Frederic Oakley (Margaretta Corning Stone)', 'Dennis, Mr. Samuel', 'Danoff, Mr. Yoto', 'Slayter, Miss. Hilda Mary', 'Caldwell, Mrs. Albert Francis (Sylvia Mae Harbaugh)', 'Sage, Mr. George John Jr', 'Young, Miss. Marie Grice', 'Nysveen, Mr. Johan Hansen', 'Ball, Mrs. (Ada E Hall)', 'Goldsmith, Mrs. Frank John (Emily Alice Brown)', 'Hippach, Miss. Jean Gertrude', 'McCoy, Miss. Agnes', 'Partner, Mr. Austen', 'Graham, Mr. George Edward', 'Vander Planke, Mr. Leo Edmondus', 'Frauenthal, Mrs. Henry William (Clara Heinsheimer)', 'Denkoff, Mr. Mitto', 'Pears, Mr. Thomas Clinton', 'Burns, Miss. Elizabeth Margaret', 'Dahl, Mr. Karl Edwart', 'Blackwell, Mr. Stephen Weart', 'Navratil, Master. Edmond Roger', 'Fortune, Miss. Alice Elizabeth', 'Collander, Mr. Erik Gustaf', 'Sedgwick, Mr. Charles Frederick Waddington', 'Fox, Mr. Stanley Hubert', 'Brown, Miss. Amelia \"\"Mildred\"\"', 'Smith, Miss. Marion Elsie', 'Davison, Mrs. Thomas Henry (Mary E Finck)', 'Coutts, Master. William Loch \"\"William\"\"', 'Dimic, Mr. Jovan', 'Odahl, Mr. Nils Martin', 'Williams-Lambert, Mr. Fletcher Fellows', 'Elias, Mr. Tannous', 'Arnold-Franchi, Mr. Josef', 'Yousif, Mr. Wazli', 'Vanden Steen, Mr. Leo Peter', 'Bowerman, Miss. Elsie Edith', 'Funk, Miss. Annie Clemmer', 'McGovern, Miss. Mary', 'Mockler, Miss. Helen Mary \"\"Ellie\"\"', 'Skoog, Mr. Wilhelm', 'del Carlo, Mr. Sebastiano', 'Barbara, Mrs. (Catherine David)', 'Asim, Mr. Adola', \"O'Brien, Mr. Thomas\", 'Adahl, Mr. Mauritz Nils Martin', 'Warren, Mrs. Frank Manley (Anna Sophia Atkinson)', 'Moussa, Mrs. (Mantoura Boulos)', 'Jermyn, Miss. Annie', 'Aubart, Mme. Leontine Pauline', 'Harder, Mr. George Achilles', 'Wiklund, Mr. Jakob Alfred', 'Beavan, Mr. William Thomas', 'Ringhini, Mr. Sante', 'Palsson, Miss. Stina Viola', 'Meyer, Mrs. Edgar Joseph (Leila Saks)', 'Landergren, Miss. Aurora Adelia', 'Widener, Mr. Harry Elkins', 'Betros, Mr. Tannous', 'Gustafsson, Mr. Karl Gideon', 'Bidois, Miss. Rosalie', 'Nakid, Miss. Maria (\"\"Mary\"\")', 'Tikkanen, Mr. Juho', 'Holverson, Mrs. Alexander Oskar (Mary Aline Towner)', 'Plotcharsky, Mr. Vasil', 'Davies, Mr. Charles Henry', 'Goodwin, Master. Sidney Leonard', 'Buss, Miss. Kate', 'Sadlier, Mr. Matthew', 'Lehmann, Miss. Bertha', 'Carter, Mr. William Ernest', 'Jansson, Mr. Carl Olof', 'Gustafsson, Mr. Johan Birger', 'Newell, Miss. Marjorie', 'Sandstrom, Mrs. Hjalmar (Agnes Charlotta Bengtsson)', 'Johansson, Mr. Erik', 'Olsson, Miss. Elina', 'McKane, Mr. Peter David', 'Pain, Dr. Alfred', 'Trout, Mrs. William H (Jessie L)', 'Niskanen, Mr. Juha', 'Adams, Mr. John', 'Jussila, Miss. Mari Aina', 'Hakkarainen, Mr. Pekka Pietari', 'Oreskovic, Miss. Marija', 'Gale, Mr. Shadrach', 'Widegren, Mr. Carl/Charles Peter', 'Richards, Master. William Rowe', 'Birkeland, Mr. Hans Martin Monsen', 'Lefebre, Miss. Ida', 'Sdycoff, Mr. Todor', 'Hart, Mr. Henry', 'Minahan, Miss. Daisy E', 'Cunningham, Mr. Alfred Fleming', 'Sundman, Mr. Johan Julian', 'Meek, Mrs. Thomas (Annie Louise Rowley)', 'Drew, Mrs. James Vivian (Lulu Thorne Christian)', 'Silven, Miss. Lyyli Karoliina', 'Matthews, Mr. William John', 'Van Impe, Miss. Catharina', 'Gheorgheff, Mr. Stanio', 'Charters, Mr. David', 'Zimmerman, Mr. Leo', 'Danbom, Mrs. Ernst Gilbert (Anna Sigrid Maria Brogren)', 'Rosblom, Mr. Viktor Richard', 'Wiseman, Mr. Phillippe', 'Clarke, Mrs. Charles V (Ada Maria Winfield)', 'Phillips, Miss. Kate Florence (\"\"Mrs Kate Louise Phillips Marshall\"\")', 'Flynn, Mr. James', 'Pickard, Mr. Berk (Berk Trembisky)', 'Bjornstrom-Steffansson, Mr. Mauritz Hakan', 'Thorneycroft, Mrs. Percival (Florence Kate White)', 'Louch, Mrs. Charles Alexander (Alice Adelaide Slow)', 'Kallio, Mr. Nikolai Erland', 'Silvey, Mr. William Baird', 'Carter, Miss. Lucile Polk', 'Ford, Miss. Doolina Margaret \"\"Daisy\"\"', 'Richards, Mrs. Sidney (Emily Hocking)', 'Fortune, Mr. Mark', 'Kvillner, Mr. Johan Henrik Johannesson', 'Hart, Mrs. Benjamin (Esther Ada Bloomfield)', 'Hampe, Mr. Leon', 'Petterson, Mr. Johan Emil', 'Reynaldo, Ms. Encarnacion', 'Johannesen-Bratthammer, Mr. Bernt', 'Dodge, Master. Washington', 'Mellinger, Miss. Madeleine Violet', 'Seward, Mr. Frederic Kimber', 'Baclini, Miss. Marie Catherine', 'Peuchen, Major. Arthur Godfrey', 'West, Mr. Edwy Arthur', 'Hagland, Mr. Ingvald Olai Olsen', 'Foreman, Mr. Benjamin Laventall', 'Goldenberg, Mr. Samuel L', 'Peduzzi, Mr. Joseph', 'Jalsevac, Mr. Ivan', 'Millet, Mr. Francis Davis', 'Kenyon, Mrs. Frederick R (Marion)', 'Toomey, Miss. Ellen', \"O'Connor, Mr. Maurice\", 'Anderson, Mr. Harry', 'Morley, Mr. William', 'Gee, Mr. Arthur H', 'Milling, Mr. Jacob Christian', 'Maisner, Mr. Simon', 'Goncalves, Mr. Manuel Estanslas', 'Campbell, Mr. William', 'Smart, Mr. John Montgomery', 'Scanlan, Mr. James', 'Baclini, Miss. Helene Barbara', 'Keefe, Mr. Arthur', 'Cacic, Mr. Luka', 'West, Mrs. Edwy Arthur (Ada Mary Worth)', 'Jerwan, Mrs. Amin S (Marie Marthe Thuillard)', 'Strandberg, Miss. Ida Sofia', 'Clifford, Mr. George Quincy', 'Renouf, Mr. Peter Henry', 'Braund, Mr. Lewis Richard', 'Karlsson, Mr. Nils August', 'Hirvonen, Miss. Hildur E', 'Goodwin, Master. Harold Victor', 'Frost, Mr. Anthony Wood \"\"Archie\"\"', 'Rouse, Mr. Richard Henry', 'Turkula, Mrs. (Hedwig)', 'Bishop, Mr. Dickinson H', 'Lefebre, Miss. Jeannie', 'Hoyt, Mrs. Frederick Maxfield (Jane Anne Forby)', 'Kent, Mr. Edward Austin', 'Somerton, Mr. Francis William', 'Coutts, Master. Eden Leslie \"\"Neville\"\"', 'Hagland, Mr. Konrad Mathias Reiersen', 'Windelov, Mr. Einar', 'Molson, Mr. Harry Markland', 'Artagaveytia, Mr. Ramon', 'Stanley, Mr. Edward Roland', 'Yousseff, Mr. Gerious', 'Eustis, Miss. Elizabeth Mussey', 'Shellard, Mr. Frederick William', 'Allison, Mrs. Hudson J C (Bessie Waldo Daniels)', 'Svensson, Mr. Olof', 'Calic, Mr. Petar', 'Canavan, Miss. Mary', \"O'Sullivan, Miss. Bridget Mary\", 'Laitinen, Miss. Kristina Sofia', 'Maioni, Miss. Roberta', 'Penasco y Castellana, Mr. Victor de Satode', 'Quick, Mrs. Frederick Charles (Jane Richards)', 'Bradley, Mr. George (\"\"George Arthur Brayton\"\")', 'Olsen, Mr. Henry Margido', 'Lang, Mr. Fang', 'Daly, Mr. Eugene Patrick', 'Webber, Mr. James', 'McGough, Mr. James Robert', 'Rothschild, Mrs. Martin (Elizabeth L. Barrett)', 'Coleff, Mr. Satio', 'Walker, Mr. William Anderson', 'Lemore, Mrs. (Amelia Milley)', 'Ryan, Mr. Patrick', 'Angle, Mrs. William A (Florence \"\"Mary\"\" Agnes Hughes)', 'Pavlovic, Mr. Stefo', 'Perreault, Miss. Anne', 'Vovk, Mr. Janko', 'Lahoud, Mr. Sarkis', 'Hippach, Mrs. Louis Albert (Ida Sophia Fischer)', 'Kassem, Mr. Fared', 'Farrell, Mr. James', 'Ridsdale, Miss. Lucy', 'Farthing, Mr. John', 'Salonen, Mr. Johan Werner', 'Hocking, Mr. Richard George', 'Quick, Miss. Phyllis May', 'Toufik, Mr. Nakli', 'Elias, Mr. Joseph Jr', 'Peter, Mrs. Catherine (Catherine Rizk)', 'Cacic, Miss. Marija', 'Hart, Miss. Eva Miriam', 'Butt, Major. Archibald Willingham', 'LeRoy, Miss. Bertha', 'Risien, Mr. Samuel Beard', 'Frolicher, Miss. Hedwig Margaritha', 'Crosby, Miss. Harriet R', 'Andersson, Miss. Ingeborg Constanzia', 'Andersson, Miss. Sigrid Elisabeth', 'Beane, Mr. Edward', 'Douglas, Mr. Walter Donald', 'Nicholson, Mr. Arthur Ernest', 'Beane, Mrs. Edward (Ethel Clarke)', 'Padro y Manent, Mr. Julian', 'Goldsmith, Mr. Frank John', 'Davies, Master. John Morgan Jr', 'Thayer, Mr. John Borland Jr', 'Sharp, Mr. Percival James R', \"O'Brien, Mr. Timothy\", 'Leeni, Mr. Fahim (\"\"Philip Zenni\"\")', 'Ohman, Miss. Velin', 'Wright, Mr. George', 'Duff Gordon, Lady. (Lucille Christiana Sutherland) (\"\"Mrs Morgan\"\")', 'Robbins, Mr. Victor', 'Taussig, Mrs. Emil (Tillie Mandelbaum)', 'de Messemaeker, Mrs. Guillaume Joseph (Emma)', 'Morrow, Mr. Thomas Rowan', 'Sivic, Mr. Husein', 'Norman, Mr. Robert Douglas', 'Simmons, Mr. John', 'Meanwell, Miss. (Marion Ogden)', 'Davies, Mr. Alfred J', 'Stoytcheff, Mr. Ilia', 'Palsson, Mrs. Nils (Alma Cornelia Berglund)', 'Doharr, Mr. Tannous', 'Jonsson, Mr. Carl', 'Harris, Mr. George', 'Appleton, Mrs. Edward Dale (Charlotte Lamson)', 'Flynn, Mr. John Irwin (\"\"Irving\"\")', 'Kelly, Miss. Mary', 'Rush, Mr. Alfred George John', 'Patchett, Mr. George', 'Garside, Miss. Ethel', 'Silvey, Mrs. William Baird (Alice Munger)', 'Caram, Mrs. Joseph (Maria Elias)', 'Jussila, Mr. Eiriik', 'Christy, Miss. Julie Rachel', 'Thayer, Mrs. John Borland (Marian Longstreth Morris)', 'Downton, Mr. William James', 'Ross, Mr. John Hugo', 'Paulner, Mr. Uscher', 'Taussig, Miss. Ruth', 'Jarvis, Mr. John Denzil', 'Frolicher-Stehli, Mr. Maxmillian', 'Gilinski, Mr. Eliezer', 'Murdlin, Mr. Joseph', 'Rintamaki, Mr. Matti', 'Stephenson, Mrs. Walter Bertram (Martha Eustis)', 'Elsbury, Mr. William James', 'Bourke, Miss. Mary', 'Chapman, Mr. John Henry', 'Van Impe, Mr. Jean Baptiste', 'Leitch, Miss. Jessie Wills', 'Johnson, Mr. Alfred', 'Boulos, Mr. Hanna', 'Duff Gordon, Sir. Cosmo Edmund (\"\"Mr Morgan\"\")', 'Jacobsohn, Mrs. Sidney Samuel (Amy Frances Christy)', 'Slabenoff, Mr. Petco', 'Harrington, Mr. Charles H', 'Torber, Mr. Ernst William', 'Homer, Mr. Harry (\"\"Mr E Haven\"\")', 'Lindell, Mr. Edvard Bengtsson', 'Karaic, Mr. Milan', 'Daniel, Mr. Robert Williams', 'Laroche, Mrs. Joseph (Juliette Marie Louise Lafargue)', 'Shutes, Miss. Elizabeth W', 'Andersson, Mrs. Anders Johan (Alfrida Konstantia Brogren)', 'Jardin, Mr. Jose Neto', 'Murphy, Miss. Margaret Jane', 'Horgan, Mr. John', 'Brocklebank, Mr. William Alfred', 'Herman, Miss. Alice', 'Danbom, Mr. Ernst Gilbert', 'Lobb, Mrs. William Arthur (Cordelia K Stanlick)', 'Becker, Miss. Marion Louise', 'Gavey, Mr. Lawrence', 'Yasbeck, Mr. Antoni', 'Kimball, Mr. Edwin Nelson Jr', 'Nakid, Mr. Sahid', 'Hansen, Mr. Henry Damsgaard', 'Bowen, Mr. David John \"\"Dai\"\"', 'Sutton, Mr. Frederick', 'Kirkland, Rev. Charles Leonard', 'Longley, Miss. Gretchen Fiske', 'Bostandyeff, Mr. Guentcho', \"O'Connell, Mr. Patrick D\", 'Barkworth, Mr. Algernon Henry Wilson', 'Lundahl, Mr. Johan Svensson', 'Stahelin-Maeglin, Dr. Max', 'Parr, Mr. William Henry Marsh', 'Skoog, Miss. Mabel', 'Davis, Miss. Mary', 'Leinonen, Mr. Antti Gustaf', 'Collyer, Mr. Harvey', 'Panula, Mrs. Juha (Maria Emilia Ojala)', 'Thorneycroft, Mr. Percival', 'Jensen, Mr. Hans Peder', 'Sagesser, Mlle. Emma', 'Skoog, Miss. Margit Elizabeth', 'Foo, Mr. Choong', 'Baclini, Miss. Eugenie', 'Harper, Mr. Henry Sleeper', 'Cor, Mr. Liudevit', 'Simonius-Blumer, Col. Oberst Alfons', 'Willey, Mr. Edward', 'Stanley, Miss. Amy Zillah Elsie', 'Mitkoff, Mr. Mito', 'Doling, Miss. Elsie', 'Kalvik, Mr. Johannes Halvorsen', 'O\\'Leary, Miss. Hanora \"\"Norah\"\"', 'Hegarty, Miss. Hanora \"\"Nora\"\"', 'Hickman, Mr. Leonard Mark', 'Radeff, Mr. Alexander', 'Bourke, Mrs. John (Catherine)', 'Eitemiller, Mr. George Floyd', 'Newell, Mr. Arthur Webster', 'Frauenthal, Dr. Henry William', 'Badt, Mr. Mohamed', 'Colley, Mr. Edward Pomeroy', 'Coleff, Mr. Peju', 'Lindqvist, Mr. Eino William', 'Hickman, Mr. Lewis', 'Butler, Mr. Reginald Fenton', 'Rommetvedt, Mr. Knud Paust', 'Cook, Mr. Jacob', 'Taylor, Mrs. Elmer Zebley (Juliet Cummins Wright)', 'Brown, Mrs. Thomas William Solomon (Elizabeth Catherine Ford)', 'Davidson, Mr. Thornton', 'Mitchell, Mr. Henry Michael', 'Wilhelms, Mr. Charles', 'Watson, Mr. Ennis Hastings', 'Edvardsson, Mr. Gustaf Hjalmar', 'Sawyer, Mr. Frederick Charles', 'Turja, Miss. Anna Sofia', 'Goodwin, Mrs. Frederick (Augusta Tyler)', 'Cardeza, Mr. Thomas Drake Martinez', 'Peters, Miss. Katie', 'Hassab, Mr. Hammad', 'Olsvigen, Mr. Thor Anderson', 'Goodwin, Mr. Charles Edward', 'Brown, Mr. Thomas William Solomon', 'Laroche, Mr. Joseph Philippe Lemercier', 'Panula, Mr. Jaako Arnold', 'Dakic, Mr. Branko', 'Fischer, Mr. Eberhard Thelander', 'Madill, Miss. Georgette Alexandra', 'Dick, Mr. Albert Adrian', 'Karun, Miss. Manca', 'Lam, Mr. Ali', 'Saad, Mr. Khalil', 'Weir, Col. John', 'Chapman, Mr. Charles Henry', 'Kelly, Mr. James', 'Mullens, Miss. Katherine \"\"Katie\"\"', 'Thayer, Mr. John Borland', 'Humblen, Mr. Adolf Mathias Nicolai Olsen', 'Astor, Mrs. John Jacob (Madeleine Talmadge Force)', 'Silverthorne, Mr. Spencer Victor', 'Barbara, Miss. Saiide', 'Gallagher, Mr. Martin', 'Hansen, Mr. Henrik Juul', 'Morley, Mr. Henry Samuel (\"\"Mr Henry Marshall\"\")', 'Kelly, Mrs. Florence \"\"Fannie\"\"', 'Calderhead, Mr. Edward Pennington', 'Cleaver, Miss. Alice', 'Moubarek, Master. Halim Gonios (\"\"William George\"\")', 'Mayne, Mlle. Berthe Antonine (\"\"Mrs de Villiers\"\")', 'Klaber, Mr. Herman', 'Taylor, Mr. Elmer Zebley', 'Larsson, Mr. August Viktor', 'Greenberg, Mr. Samuel', 'Soholt, Mr. Peter Andreas Lauritz Andersen', 'Endres, Miss. Caroline Louise', 'Troutt, Miss. Edwina Celia \"\"Winnie\"\"', 'McEvoy, Mr. Michael', 'Johnson, Mr. Malkolm Joackim', 'Harper, Miss. Annie Jessie \"\"Nina\"\"', 'Jensen, Mr. Svend Lauritz', 'Gillespie, Mr. William Henry', 'Hodges, Mr. Henry Price', 'Chambers, Mr. Norman Campbell', 'Oreskovic, Mr. Luka', 'Renouf, Mrs. Peter Henry (Lillian Jefferys)', 'Mannion, Miss. Margareth', 'Bryhl, Mr. Kurt Arnold Gottfrid', 'Ilmakangas, Miss. Pieta Sofia', 'Allen, Miss. Elisabeth Walton', 'Hassan, Mr. Houssein G N', 'Knight, Mr. Robert J', 'Berriman, Mr. William John', 'Troupiansky, Mr. Moses Aaron', 'Williams, Mr. Leslie', 'Ford, Mrs. Edward (Margaret Ann Watson)', 'Lesurer, Mr. Gustave J', 'Ivanoff, Mr. Kanio', 'Nankoff, Mr. Minko', 'Hawksford, Mr. Walter James', 'Cavendish, Mr. Tyrell William', 'Ryerson, Miss. Susan Parker \"\"Suzette\"\"', 'McNamee, Mr. Neal', 'Stranden, Mr. Juho', 'Crosby, Capt. Edward Gifford', 'Abbott, Mr. Rossmore Edward', 'Sinkkonen, Miss. Anna', 'Marvin, Mr. Daniel Warner', 'Connaghton, Mr. Michael', 'Wells, Miss. Joan', 'Moor, Master. Meier', 'Vande Velde, Mr. Johannes Joseph', 'Jonkoff, Mr. Lalio', 'Herman, Mrs. Samuel (Jane Laver)', 'Hamalainen, Master. Viljo', 'Carlsson, Mr. August Sigfrid', 'Bailey, Mr. Percy Andrew', 'Theobald, Mr. Thomas Leonard', 'Rothes, the Countess. of (Lucy Noel Martha Dyer-Edwards)', 'Garfirth, Mr. John', 'Nirva, Mr. Iisakki Antino Aijo', 'Barah, Mr. Hanna Assi', 'Carter, Mrs. William Ernest (Lucile Polk)', 'Eklund, Mr. Hans Linus', 'Hogeboom, Mrs. John C (Anna Andrews)', 'Brewe, Dr. Arthur Jackson', 'Mangan, Miss. Mary', 'Moran, Mr. Daniel J', 'Gronnestad, Mr. Daniel Danielsen', 'Lievens, Mr. Rene Aime', 'Jensen, Mr. Niels Peder', 'Mack, Mrs. (Mary)', 'Elias, Mr. Dibo', 'Hocking, Mrs. Elizabeth (Eliza Needs)', 'Myhrman, Mr. Pehr Fabian Oliver Malkolm', 'Tobin, Mr. Roger', 'Emanuel, Miss. Virginia Ethel', 'Kilgannon, Mr. Thomas J', 'Robert, Mrs. Edward Scott (Elisabeth Walton McMillan)', 'Ayoub, Miss. Banoura', 'Dick, Mrs. Albert Adrian (Vera Gillespie)', 'Long, Mr. Milton Clyde', 'Johnston, Mr. Andrew G', 'Ali, Mr. William', 'Harmer, Mr. Abraham (David Lishin)', 'Sjoblom, Miss. Anna Sofia', 'Rice, Master. George Hugh', 'Dean, Master. Bertram Vere', 'Guggenheim, Mr. Benjamin', 'Keane, Mr. Andrew \"\"Andy\"\"', 'Gaskell, Mr. Alfred', 'Sage, Miss. Stella Anna', 'Hoyt, Mr. William Fisher', 'Dantcheff, Mr. Ristiu', 'Otter, Mr. Richard', 'Leader, Dr. Alice (Farnham)', 'Osman, Mrs. Mara', 'Ibrahim Shawah, Mr. Yousseff', 'Van Impe, Mrs. Jean Baptiste (Rosalie Paula Govaert)', 'Ponesell, Mr. Martin', 'Collyer, Mrs. Harvey (Charlotte Annie Tate)', 'Carter, Master. William Thornton II', 'Thomas, Master. Assad Alexander', 'Hedman, Mr. Oskar Arvid', 'Johansson, Mr. Karl Johan', 'Andrews, Mr. Thomas Jr', 'Pettersson, Miss. Ellen Natalia', 'Meyer, Mr. August', 'Chambers, Mrs. Norman Campbell (Bertha Griggs)', 'Alexander, Mr. William', 'Lester, Mr. James', 'Slemen, Mr. Richard James', 'Andersson, Miss. Ebba Iris Alfrida', 'Tomlin, Mr. Ernest Portage', 'Fry, Mr. Richard', 'Heininen, Miss. Wendla Maria', 'Mallet, Mr. Albert', 'Holm, Mr. John Fredrik Alexander', 'Skoog, Master. Karl Thorsten', 'Hays, Mrs. Charles Melville (Clara Jennings Gregg)', 'Lulic, Mr. Nikola', 'Reuchlin, Jonkheer. John George', 'Moor, Mrs. (Beila)', 'Panula, Master. Urho Abraham', 'Flynn, Mr. John', 'Lam, Mr. Len', 'Mallet, Master. Andre', 'McCormack, Mr. Thomas Joseph', 'Stone, Mrs. George Nelson (Martha Evelyn)', 'Yasbeck, Mrs. Antoni (Selini Alexander)', 'Richards, Master. George Sibley', 'Saad, Mr. Amin', 'Augustsson, Mr. Albert', 'Allum, Mr. Owen George', 'Compton, Miss. Sara Rebecca', 'Pasic, Mr. Jakob', 'Sirota, Mr. Maurice', 'Chip, Mr. Chang', 'Marechal, Mr. Pierre', 'Alhomaki, Mr. Ilmari Rudolf', 'Mudd, Mr. Thomas Charles', 'Serepeca, Miss. Augusta', 'Lemberopolous, Mr. Peter L', 'Culumovic, Mr. Jeso', 'Abbing, Mr. Anthony', 'Sage, Mr. Douglas Bullen', 'Markoff, Mr. Marin', 'Harper, Rev. John', 'Goldenberg, Mrs. Samuel L (Edwiga Grabowska)', 'Andersson, Master. Sigvard Harald Elias', 'Svensson, Mr. Johan', 'Boulos, Miss. Nourelain', 'Lines, Miss. Mary Conover', 'Carter, Mrs. Ernest Courtenay (Lilian Hughes)', 'Aks, Mrs. Sam (Leah Rosen)', 'Wick, Mrs. George Dennick (Mary Hitchcock)', 'Daly, Mr. Peter Denis', 'Baclini, Mrs. Solomon (Latifa Qurban)', 'Razi, Mr. Raihed', 'Hansen, Mr. Claus Peter', 'Giles, Mr. Frederick Edward', 'Swift, Mrs. Frederick Joel (Margaret Welles Barron)', 'Sage, Miss. Dorothy Edith \"\"Dolly\"\"', 'Gill, Mr. John William', 'Bystrom, Mrs. (Karolina)', 'Duran y More, Miss. Asuncion', 'Roebling, Mr. Washington Augustus II', 'van Melkebeke, Mr. Philemon', 'Johnson, Master. Harold Theodor', 'Balkic, Mr. Cerin', 'Beckwith, Mrs. Richard Leonard (Sallie Monypeny)', 'Carlsson, Mr. Frans Olof', 'Vander Cruyssen, Mr. Victor', 'Abelson, Mrs. Samuel (Hannah Wizosky)', 'Najib, Miss. Adele Kiamie \"\"Jane\"\"', 'Gustafsson, Mr. Alfred Ossian', 'Petroff, Mr. Nedelio', 'Laleff, Mr. Kristo', 'Potter, Mrs. Thomas Jr (Lily Alexenia Wilson)', 'Shelley, Mrs. William (Imanita Parrish Hall)', 'Markun, Mr. Johann', 'Dahlberg, Miss. Gerda Ulrika', 'Banfield, Mr. Frederick James', 'Sutehall, Mr. Henry Jr', 'Rice, Mrs. William (Margaret Norton)', 'Montvila, Rev. Juozas', 'Graham, Miss. Margaret Edith', 'Johnston, Miss. Catherine Helen \"\"Carrie\"\"', 'Behr, Mr. Karl Howell', 'Dooley, Mr. Patrick']\n",
            "Sex: ['male', 'female', 'female', 'female', 'male', 'male', 'male', 'male', 'female', 'female', 'female', 'female', 'male', 'male', 'female', 'female', 'male', 'male', 'female', 'female', 'male', 'male', 'female', 'male', 'female', 'female', 'male', 'male', 'female', 'male', 'male', 'female', 'female', 'male', 'male', 'male', 'male', 'male', 'female', 'female', 'female', 'female', 'male', 'female', 'female', 'male', 'male', 'female', 'male', 'female', 'male', 'male', 'female', 'female', 'male', 'male', 'female', 'male', 'female', 'male', 'male', 'female', 'male', 'male', 'male', 'male', 'female', 'male', 'female', 'male', 'male', 'female', 'male', 'male', 'male', 'male', 'male', 'male', 'male', 'female', 'male', 'male', 'female', 'male', 'female', 'female', 'male', 'male', 'female', 'male', 'male', 'male', 'male', 'male', 'male', 'male', 'male', 'male', 'female', 'male', 'female', 'male', 'male', 'male', 'male', 'male', 'female', 'male', 'male', 'female', 'male', 'female', 'male', 'female', 'female', 'male', 'male', 'male', 'male', 'female', 'male', 'male', 'male', 'female', 'male', 'male', 'male', 'male', 'female', 'male', 'male', 'male', 'female', 'female', 'male', 'male', 'female', 'male', 'male', 'male', 'female', 'female', 'female', 'male', 'male', 'male', 'male', 'female', 'male', 'male', 'male', 'female', 'male', 'male', 'male', 'male', 'female', 'male', 'male', 'male', 'male', 'female', 'male', 'male', 'male', 'male', 'female', 'female', 'male', 'male', 'male', 'male', 'female', 'male', 'male', 'male', 'male', 'female', 'male', 'male', 'female', 'male', 'male', 'male', 'female', 'male', 'female', 'male', 'male', 'male', 'female', 'male', 'female', 'male', 'female', 'female', 'male', 'male', 'female', 'female', 'male', 'male', 'male', 'male', 'male', 'female', 'male', 'male', 'female', 'male', 'male', 'female', 'male', 'male', 'male', 'female', 'female', 'male', 'female', 'male', 'male', 'male', 'male', 'male', 'male', 'male', 'male', 'male', 'male', 'female', 'female', 'male', 'male', 'female', 'male', 'female', 'male', 'female', 'male', 'male', 'female', 'female', 'male', 'male', 'male', 'male', 'female', 'female', 'male', 'male', 'male', 'female', 'male', 'male', 'female', 'female', 'female', 'female', 'female', 'female', 'male', 'male', 'male', 'male', 'female', 'male', 'male', 'male', 'female', 'female', 'male', 'male', 'female', 'male', 'female', 'female', 'female', 'male', 'male', 'female', 'male', 'male', 'male', 'male', 'male', 'male', 'male', 'male', 'male', 'female', 'female', 'female', 'male', 'female', 'male', 'male', 'male', 'female', 'male', 'female', 'female', 'male', 'male', 'female', 'male', 'male', 'female', 'female', 'male', 'female', 'female', 'female', 'female', 'male', 'male', 'female', 'female', 'male', 'female', 'female', 'male', 'male', 'female', 'female', 'male', 'female', 'male', 'female', 'female', 'female', 'female', 'male', 'male', 'male', 'female', 'male', 'male', 'female', 'male', 'male', 'male', 'female', 'male', 'male', 'male', 'female', 'female', 'female', 'male', 'male', 'male', 'male', 'male', 'male', 'male', 'male', 'female', 'female', 'female', 'female', 'male', 'male', 'female', 'male', 'male', 'male', 'female', 'female', 'female', 'female', 'male', 'male', 'male', 'male', 'female', 'female', 'female', 'male', 'male', 'male', 'female', 'female', 'male', 'female', 'male', 'male', 'male', 'female', 'male', 'female', 'male', 'male', 'male', 'female', 'female', 'male', 'female', 'male', 'male', 'female', 'male', 'male', 'female', 'male', 'female', 'male', 'male', 'male', 'male', 'female', 'male', 'male', 'female', 'male', 'male', 'female', 'female', 'female', 'male', 'female', 'male', 'male', 'male', 'female', 'male', 'male', 'female', 'female', 'male', 'male', 'male', 'female', 'female', 'male', 'male', 'female', 'female', 'female', 'male', 'male', 'female', 'male', 'male', 'female', 'male', 'male', 'female', 'male', 'female', 'male', 'male', 'male', 'male', 'male', 'male', 'male', 'male', 'female', 'female', 'male', 'male', 'male', 'male', 'male', 'male', 'male', 'male', 'male', 'male', 'female', 'male', 'male', 'female', 'female', 'female', 'male', 'male', 'male', 'male', 'female', 'male', 'male', 'male', 'female', 'male', 'female', 'female', 'male', 'male', 'male', 'male', 'male', 'male', 'male', 'male', 'male', 'female', 'male', 'female', 'male', 'male', 'female', 'female', 'female', 'female', 'male', 'female', 'male', 'male', 'male', 'male', 'male', 'male', 'female', 'male', 'male', 'female', 'male', 'female', 'male', 'female', 'male', 'male', 'female', 'male', 'male', 'female', 'male', 'male', 'male', 'female', 'male', 'male', 'female', 'female', 'female', 'male', 'female', 'male', 'female', 'female', 'female', 'female', 'male', 'male', 'male', 'female', 'male', 'male', 'male', 'male', 'male', 'male', 'male', 'female', 'male', 'female', 'male', 'female', 'female', 'male', 'male', 'male', 'male', 'female', 'male', 'male', 'female', 'male', 'male', 'male', 'female', 'male', 'female', 'male', 'male', 'female', 'female', 'female', 'male', 'female', 'female', 'male', 'male', 'male', 'female', 'male', 'male', 'male', 'male', 'male', 'female', 'male', 'female', 'male', 'male', 'female', 'male', 'male', 'male', 'female', 'male', 'male', 'male', 'male', 'male', 'male', 'male', 'female', 'female', 'female', 'male', 'female', 'male', 'male', 'female', 'male', 'female', 'female', 'male', 'male', 'male', 'male', 'male', 'male', 'male', 'male', 'female', 'male', 'male', 'male', 'male', 'male', 'male', 'female', 'female', 'male', 'male', 'female', 'male', 'male', 'female', 'female', 'male', 'female', 'male', 'male', 'male', 'male', 'female', 'male', 'female', 'male', 'female', 'female', 'male', 'male', 'female', 'male', 'male', 'male', 'male', 'male', 'male', 'male', 'male', 'male', 'male', 'male', 'female', 'female', 'male', 'male', 'male', 'male', 'male', 'male', 'female', 'female', 'male', 'female', 'male', 'male', 'male', 'male', 'male', 'male', 'male', 'male', 'female', 'male', 'female', 'male', 'male', 'male', 'male', 'male', 'female', 'male', 'male', 'female', 'male', 'female', 'male', 'male', 'male', 'female', 'male', 'female', 'male', 'female', 'male', 'male', 'male', 'male', 'male', 'female', 'female', 'male', 'male', 'female', 'male', 'male', 'male', 'male', 'male', 'female', 'female', 'male', 'female', 'female', 'male', 'male', 'male', 'male', 'male', 'female', 'male', 'male', 'male', 'male', 'male', 'female', 'male', 'male', 'male', 'male', 'female', 'male', 'male', 'female', 'male', 'male', 'male', 'female', 'male', 'male', 'male', 'male', 'female', 'male', 'male', 'male', 'female', 'male', 'female', 'male', 'female', 'male', 'male', 'male', 'male', 'female', 'male', 'female', 'male', 'male', 'female', 'male', 'female', 'female', 'female', 'male', 'male', 'male', 'male', 'female', 'male', 'male', 'male', 'male', 'male', 'female', 'male', 'male', 'male', 'female', 'female', 'male', 'female', 'male', 'female', 'male', 'male', 'male', 'male', 'male', 'female', 'male', 'female', 'male', 'male', 'male', 'female', 'male', 'male', 'female', 'male', 'male', 'male', 'female', 'male', 'male', 'female', 'male', 'male', 'male', 'male', 'male', 'female', 'female', 'male', 'male', 'male', 'male', 'female', 'male', 'male', 'male', 'male', 'male', 'male', 'female', 'male', 'male', 'male', 'male', 'male', 'male', 'female', 'male', 'male', 'female', 'female', 'female', 'female', 'female', 'male', 'female', 'male', 'male', 'male', 'female', 'female', 'male', 'female', 'female', 'male', 'male', 'male', 'male', 'female', 'male', 'male', 'female', 'female', 'male', 'male', 'male', 'female', 'female', 'male', 'female', 'male', 'male', 'female', 'male', 'female', 'female', 'male', 'male']\n",
            "Age: ['22', '38', '26', '35', '35', None, '54', '2', '27', '14', '4', '58', '20', '39', '14', '55', '2', None, '31', None, '35', '34', '15', '28', '8', '38', None, '19', None, None, '40', None, None, '66', '28', '42', None, '21', '18', '14', '40', '27', None, '3', '19', None, None, None, None, '18', '7', '21', '49', '29', '65', None, '21', '28.5', '5', '11', '22', '38', '45', '4', None, None, '29', '19', '17', '26', '32', '16', '21', '26', '32', '25', None, None, '0.83', '30', '22', '29', None, '28', '17', '33', '16', None, '23', '24', '29', '20', '46', '26', '59', None, '71', '23', '34', '34', '28', None, '21', '33', '37', '28', '21', None, '38', None, '47', '14.5', '22', '20', '17', '21', '70.5', '29', '24', '2', '21', None, '32.5', '32.5', '54', '12', None, '24', None, '45', '33', '20', '47', '29', '25', '23', '19', '37', '16', '24', None, '22', '24', '19', '18', '19', '27', '9', '36.5', '42', '51', '22', '55.5', '40.5', None, '51', '16', '30', None, None, '44', '40', '26', '17', '1', '9', None, '45', None, '28', '61', '4', '1', '21', '56', '18', None, '50', '30', '36', None, None, '9', '1', '4', None, None, '45', '40', '36', '32', '19', '19', '3', '44', '58', None, '42', None, '24', '28', None, '34', '45.5', '18', '2', '32', '26', '16', '40', '24', '35', '22', '30', None, '31', '27', '42', '32', '30', '16', '27', '51', None, '38', '22', '19', '20.5', '18', None, '35', '29', '59', '5', '24', None, '44', '8', '19', '33', None, None, '29', '22', '30', '44', '25', '24', '37', '54', None, '29', '62', '30', '41', '29', None, '30', '35', '50', None, '3', '52', '40', None, '36', '16', '25', '58', '35', None, '25', '41', '37', None, '63', '45', None, '7', '35', '65', '28', '16', '19', None, '33', '30', '22', '42', '22', '26', '19', '36', '24', '24', None, '23.5', '2', None, '50', None, None, '19', None, None, '0.92', None, '17', '30', '30', '24', '18', '26', '28', '43', '26', '24', '54', '31', '40', '22', '27', '30', '22', None, '36', '61', '36', '31', '16', None, '45.5', '38', '16', None, None, '29', '41', '45', '45', '2', '24', '28', '25', '36', '24', '40', None, '3', '42', '23', None, '15', '25', None, '28', '22', '38', None, None, '40', '29', '45', '35', None, '30', '60', None, None, '24', '25', '18', '19', '22', '3', None, '22', '27', '20', '19', '42', '1', '32', '35', None, '18', '1', '36', None, '17', '36', '21', '28', '23', '24', '22', '31', '46', '23', '28', '39', '26', '21', '28', '20', '34', '51', '3', '21', None, None, None, '33', None, '44', None, '34', '18', '30', '10', None, '21', '29', '28', '18', None, '28', '19', None, '32', '28', None, '42', '17', '50', '14', '21', '24', '64', '31', '45', '20', '25', '28', None, '4', '13', '34', '5', '52', '36', None, '30', '49', None, '29', '65', None, '50', None, '48', '34', '47', '48', None, '38', None, '56', None, '0.75', None, '38', '33', '23', '22', None, '34', '29', '22', '2', '9', None, '50', '63', '25', None, '35', '58', '30', '9', None, '21', '55', '71', '21', None, '54', None, '25', '24', '17', '21', None, '37', '16', '18', '33', None, '28', '26', '29', None, '36', '54', '24', '47', '34', None, '36', '32', '30', '22', None, '44', None, '40.5', '50', None, '39', '23', '2', None, '17', None, '30', '7', '45', '30', None, '22', '36', '9', '11', '32', '50', '64', '19', None, '33', '8', '17', '27', None, '22', '22', '62', '48', None, '39', '36', None, '40', '28', None, None, '24', '19', '29', None, '32', '62', '53', '36', None, '16', '19', '34', '39', None, '32', '25', '39', '54', '36', None, '18', '47', '60', '22', None, '35', '52', '47', None, '37', '36', None, '49', None, '49', '24', None, None, '44', '35', '36', '30', '27', '22', '40', '39', None, None, None, '35', '24', '34', '26', '4', '26', '27', '42', '20', '21', '21', '61', '57', '21', '26', None, '80', '51', '32', None, '9', '28', '32', '31', '41', None, '20', '24', '2', None, '0.75', '48', '19', '56', None, '23', None, '18', '21', None, '18', '24', None, '32', '23', '58', '50', '40', '47', '36', '20', '32', '25', None, '43', None, '40', '31', '70', '31', None, '18', '24.5', '18', '43', '36', None, '27', '20', '14', '60', '25', '14', '19', '18', '15', '31', '4', None, '25', '60', '52', '44', None, '49', '42', '18', '35', '18', '25', '26', '39', '45', '42', '22', None, '24', None, '48', '29', '52', '19', '38', '27', None, '33', '6', '17', '34', '50', '27', '20', '30', None, '25', '25', '29', '11', None, '23', '23', '28.5', '48', '35', None, None, None, '36', '21', '24', '31', '70', '16', '30', '19', '31', '4', '6', '33', '23', '48', '0.67', '28', '18', '34', '33', None, '41', '20', '36', '16', '51', None, '30.5', None, '32', '24', '48', '57', None, '54', '18', None, '5', None, '43', '13', '17', '29', None, '25', '25', '18', '8', '1', '46', None, '16', None, None, '25', '39', '49', '31', '30', '30', '34', '31', '11', '0.42', '27', '31', '39', '18', '39', '33', '26', '39', '35', '6', '30.5', None, '23', '31', '43', '10', '52', '27', '38', '27', '2', None, None, '1', None, '62', '15', '0.83', None, '23', '18', '39', '21', None, '32', None, '20', '16', '30', '34.5', '17', '42', None, '35', '28', None, '4', '74', '9', '16', '44', '18', '45', '51', '24', None, '41', '21', '48', None, '24', '42', '27', '31', None, '4', '26', '47', '33', '47', '28', '15', '20', '19', None, '56', '25', '33', '22', '28', '25', '39', '27', '19', None, '26', '32']\n",
            "SibSp: ['1', '1', '0', '1', '0', '0', '0', '3', '0', '1', '1', '0', '0', '1', '0', '0', '4', '0', '1', '0', '0', '0', '0', '0', '3', '1', '0', '3', '0', '0', '0', '1', '0', '0', '1', '1', '0', '0', '2', '1', '1', '1', '0', '1', '0', '0', '1', '0', '2', '1', '4', '0', '1', '1', '0', '0', '0', '0', '1', '5', '0', '0', '1', '3', '0', '1', '0', '0', '4', '2', '0', '5', '0', '1', '0', '0', '0', '0', '0', '0', '0', '0', '0', '0', '0', '3', '1', '0', '3', '0', '0', '0', '1', '1', '0', '0', '0', '0', '0', '1', '0', '0', '0', '0', '2', '0', '0', '0', '0', '1', '0', '1', '0', '1', '0', '0', '0', '1', '0', '4', '2', '0', '1', '0', '0', '1', '0', '0', '1', '0', '0', '0', '1', '1', '0', '0', '0', '1', '0', '0', '0', '0', '1', '0', '0', '1', '0', '2', '0', '0', '0', '1', '0', '0', '0', '0', '0', '0', '0', '8', '0', '0', '0', '0', '4', '0', '0', '1', '0', '0', '0', '4', '1', '0', '0', '1', '3', '0', '0', '0', '8', '0', '4', '2', '0', '0', '1', '0', '1', '0', '0', '0', '1', '1', '0', '0', '0', '0', '0', '0', '0', '8', '0', '0', '0', '0', '1', '0', '0', '0', '0', '0', '0', '0', '1', '1', '0', '1', '0', '0', '0', '0', '0', '0', '1', '0', '0', '0', '0', '3', '1', '0', '0', '4', '0', '0', '1', '0', '0', '0', '1', '1', '0', '0', '0', '2', '0', '0', '1', '1', '0', '1', '0', '1', '0', '0', '0', '0', '0', '0', '0', '4', '1', '0', '0', '0', '4', '1', '0', '0', '0', '0', '0', '0', '0', '1', '0', '0', '4', '1', '0', '0', '0', '0', '0', '0', '0', '0', '0', '0', '0', '1', '0', '0', '0', '0', '0', '1', '0', '0', '0', '2', '0', '0', '0', '1', '0', '1', '1', '0', '0', '2', '1', '0', '1', '0', '1', '0', '0', '1', '0', '0', '0', '1', '8', '0', '0', '0', '1', '0', '2', '0', '0', '2', '1', '0', '1', '0', '0', '0', '1', '3', '0', '0', '0', '0', '0', '1', '1', '0', '0', '0', '1', '1', '0', '0', '0', '0', '0', '0', '1', '1', '0', '0', '1', '0', '1', '0', '0', '0', '1', '1', '0', '0', '3', '1', '0', '0', '0', '0', '0', '0', '0', '1', '0', '0', '5', '0', '0', '0', '1', '0', '2', '1', '0', '0', '0', '0', '0', '0', '0', '0', '1', '1', '0', '1', '0', '1', '0', '3', '0', '0', '1', '0', '0', '0', '1', '0', '0', '0', '0', '0', '0', '1', '1', '0', '1', '0', '0', '0', '0', '1', '1', '0', '1', '1', '2', '2', '1', '0', '1', '0', '1', '0', '0', '0', '0', '0', '2', '0', '1', '1', '0', '1', '0', '0', '0', '1', '0', '0', '0', '0', '0', '0', '0', '0', '0', '0', '0', '2', '0', '0', '1', '0', '0', '0', '1', '1', '0', '0', '5', '0', '0', '0', '1', '3', '1', '0', '0', '1', '1', '0', '0', '0', '0', '0', '1', '0', '1', '0', '0', '0', '0', '0', '0', '1', '0', '0', '0', '0', '0', '0', '0', '1', '0', '0', '0', '0', '1', '0', '0', '0', '0', '0', '0', '0', '0', '0', '0', '2', '1', '0', '1', '0', '0', '0', '0', '0', '0', '0', '0', '4', '4', '1', '1', '0', '1', '0', '1', '1', '0', '0', '0', '0', '0', '0', '1', '0', '1', '1', '0', '0', '0', '0', '0', '2', '0', '0', '0', '0', '0', '2', '0', '0', '0', '0', '0', '1', '1', '0', '1', '1', '0', '0', '0', '0', '0', '1', '0', '0', '0', '1', '0', '0', '1', '1', '0', '0', '0', '1', '2', '0', '0', '0', '0', '1', '0', '0', '1', '0', '1', '0', '1', '0', '0', '1', '1', '1', '2', '0', '1', '1', '1', '0', '0', '0', '0', '0', '0', '0', '0', '0', '0', '0', '3', '0', '0', '1', '0', '1', '0', '0', '3', '0', '2', '1', '0', '0', '0', '0', '0', '0', '0', '0', '0', '2', '0', '1', '0', '0', '2', '0', '0', '0', '1', '2', '0', '0', '0', '1', '1', '1', '0', '0', '0', '0', '0', '0', '1', '0', '0', '0', '0', '5', '1', '1', '4', '0', '0', '0', '1', '0', '0', '0', '0', '0', '0', '0', '1', '0', '1', '0', '0', '0', '1', '0', '0', '0', '0', '1', '0', '0', '1', '0', '0', '0', '0', '0', '0', '0', '0', '1', '0', '0', '1', '0', '3', '0', '1', '1', '0', '0', '0', '0', '0', '0', '1', '0', '0', '0', '0', '1', '2', '1', '0', '1', '1', '0', '1', '0', '1', '0', '0', '0', '1', '1', '0', '0', '0', '0', '0', '0', '0', '1', '0', '1', '0', '0', '1', '0', '0', '0', '0', '0', '1', '0', '0', '0', '0', '0', '0', '1', '0', '1', '0', '0', '0', '4', '1', '0', '0', '0', '8', '0', '0', '0', '0', '0', '0', '1', '0', '1', '1', '0', '0', '0', '0', '0', '0', '1', '0', '0', '0', '4', '0', '0', '0', '1', '0', '3', '1', '0', '0', '0', '4', '0', '0', '0', '0', '0', '1', '1', '0', '0', '0', '1', '0', '0', '0', '0', '0', '0', '0', '0', '0', '0', '8', '0', '0', '1', '4', '0', '1', '0', '1', '0', '1', '0', '0', '0', '2', '1', '0', '8', '0', '0', '1', '0', '0', '1', '0', '1', '0', '0', '1', '0', '0', '0', '0', '0', '0', '0', '0', '0', '0', '0', '0', '0', '1', '0', '0']\n",
            "Parch: ['0', '0', '0', '0', '0', '0', '0', '1', '2', '0', '1', '0', '0', '5', '0', '0', '1', '0', '0', '0', '0', '0', '0', '0', '1', '5', '0', '2', '0', '0', '0', '0', '0', '0', '0', '0', '0', '0', '0', '0', '0', '0', '0', '2', '0', '0', '0', '0', '0', '0', '1', '0', '0', '0', '1', '0', '0', '0', '2', '2', '0', '0', '0', '2', '0', '1', '0', '0', '2', '0', '0', '2', '0', '0', '0', '0', '0', '0', '2', '0', '0', '0', '0', '0', '0', '0', '3', '0', '2', '0', '0', '0', '0', '2', '0', '0', '0', '1', '1', '0', '0', '0', '1', '0', '0', '0', '0', '0', '0', '0', '0', '0', '0', '0', '0', '0', '0', '0', '1', '2', '0', '0', '0', '0', '1', '0', '0', '0', '1', '0', '0', '0', '0', '0', '0', '0', '2', '0', '0', '0', '2', '0', '0', '0', '0', '1', '0', '2', '2', '0', '0', '0', '0', '2', '0', '1', '0', '0', '0', '2', '1', '0', '0', '0', '1', '2', '1', '4', '0', '0', '0', '1', '1', '0', '0', '1', '1', '0', '0', '0', '2', '0', '2', '1', '2', '0', '0', '0', '1', '0', '0', '0', '0', '1', '0', '0', '0', '1', '0', '0', '0', '2', '0', '0', '0', '1', '0', '0', '0', '0', '0', '0', '0', '0', '0', '0', '0', '0', '0', '0', '0', '0', '0', '0', '0', '0', '0', '0', '0', '1', '0', '0', '0', '2', '0', '0', '0', '2', '0', '0', '0', '0', '0', '0', '0', '0', '0', '2', '1', '0', '0', '1', '0', '0', '2', '2', '0', '0', '0', '1', '0', '2', '1', '0', '0', '0', '1', '0', '1', '0', '0', '0', '1', '1', '0', '0', '0', '0', '1', '1', '0', '0', '0', '0', '0', '0', '0', '0', '0', '0', '0', '0', '0', '0', '0', '0', '0', '2', '0', '1', '0', '0', '0', '0', '0', '2', '0', '0', '0', '0', '0', '2', '1', '0', '1', '0', '0', '0', '2', '1', '0', '0', '0', '1', '2', '0', '0', '0', '1', '1', '0', '0', '1', '0', '0', '0', '0', '0', '0', '0', '1', '2', '0', '0', '0', '0', '0', '0', '1', '0', '0', '0', '1', '0', '0', '0', '1', '0', '0', '0', '4', '0', '1', '0', '0', '0', '0', '0', '0', '0', '0', '0', '0', '0', '1', '0', '0', '2', '0', '0', '0', '2', '0', '0', '0', '0', '2', '0', '0', '0', '2', '0', '0', '0', '2', '0', '0', '0', '0', '0', '0', '0', '0', '0', '0', '0', '0', '1', '0', '1', '0', '0', '0', '0', '0', '0', '1', '2', '0', '2', '0', '0', '0', '1', '1', '0', '0', '0', '0', '0', '0', '0', '0', '0', '0', '2', '2', '3', '4', '0', '1', '0', '0', '0', '0', '2', '1', '0', '1', '0', '2', '0', '0', '0', '0', '0', '0', '0', '0', '0', '0', '0', '0', '0', '0', '0', '0', '0', '0', '1', '0', '0', '2', '0', '0', '0', '0', '0', '0', '1', '2', '0', '0', '0', '0', '1', '0', '0', '0', '1', '0', '0', '0', '0', '0', '0', '0', '0', '2', '0', '0', '0', '0', '0', '0', '0', '2', '0', '0', '0', '0', '0', '0', '0', '0', '0', '0', '0', '0', '0', '0', '0', '0', '1', '0', '0', '0', '0', '0', '1', '1', '0', '1', '2', '0', '2', '0', '0', '0', '2', '2', '2', '2', '0', '0', '0', '0', '0', '1', '1', '2', '0', '0', '0', '0', '0', '0', '0', '1', '0', '0', '0', '0', '0', '0', '0', '0', '4', '0', '0', '0', '0', '0', '0', '0', '0', '0', '0', '0', '0', '1', '1', '0', '0', '0', '2', '0', '1', '0', '0', '0', '0', '0', '2', '0', '1', '0', '0', '0', '0', '1', '0', '0', '0', '0', '0', '0', '0', '2', '0', '5', '0', '0', '0', '0', '2', '1', '0', '1', '0', '0', '0', '1', '0', '0', '0', '0', '0', '0', '0', '0', '0', '0', '0', '2', '0', '0', '1', '5', '0', '0', '0', '2', '0', '1', '0', '0', '0', '0', '0', '0', '1', '0', '0', '0', '0', '0', '1', '0', '2', '0', '0', '0', '0', '0', '0', '0', '0', '0', '0', '1', '0', '0', '0', '0', '0', '0', '0', '6', '1', '0', '0', '0', '2', '1', '2', '1', '0', '0', '1', '0', '1', '0', '0', '0', '0', '0', '0', '1', '0', '0', '0', '1', '0', '0', '0', '0', '0', '0', '1', '0', '0', '0', '0', '0', '0', '0', '0', '0', '0', '1', '0', '0', '0', '0', '0', '0', '0', '0', '0', '0', '0', '0', '0', '0', '0', '3', '0', '0', '0', '0', '0', '2', '0', '0', '1', '1', '0', '0', '0', '1', '1', '0', '0', '2', '1', '0', '0', '0', '0', '0', '0', '0', '2', '0', '0', '0', '0', '0', '0', '0', '0', '0', '0', '3', '0', '0', '0', '0', '1', '0', '0', '0', '2', '0', '0', '0', '1', '2', '0', '0', '0', '2', '0', '0', '0', '0', '0', '0', '1', '0', '1', '2', '1', '0', '0', '0', '0', '0', '0', '0', '0', '0', '2', '0', '0', '0', '1', '0', '2', '1', '0', '0', '1', '1', '0', '0', '2', '0', '0', '0', '1', '0', '0', '0', '1', '0', '0', '0', '0', '0', '0', '0', '0', '0', '0', '2', '0', '1', '0', '2', '0', '1', '1', '0', '1', '1', '0', '3', '0', '0', '0', '0', '2', '0', '0', '0', '0', '0', '1', '0', '1', '0', '0', '0', '0', '0', '0', '0', '1', '1', '0', '0', '0', '0', '5', '0', '0', '2', '0', '0']\n",
            "Ticket: ['A/5 21171', 'PC 17599', 'STON/O2. 3101282', '113803', '373450', '330877', '17463', '349909', '347742', '237736', 'PP 9549', '113783', 'A/5. 2151', '347082', '350406', '248706', '382652', '244373', '345763', '2649', '239865', '248698', '330923', '113788', '349909', '347077', '2631', '19950', '330959', '349216', 'PC 17601', 'PC 17569', '335677', 'C.A. 24579', 'PC 17604', '113789', '2677', 'A./5. 2152', '345764', '2651', '7546', '11668', '349253', 'SC/Paris 2123', '330958', 'S.C./A.4. 23567', '370371', '14311', '2662', '349237', '3101295', 'A/4. 39886', 'PC 17572', '2926', '113509', '19947', 'C.A. 31026', '2697', 'C.A. 34651', 'CA 2144', '2669', '113572', '36973', '347088', 'PC 17605', '2661', 'C.A. 29395', 'S.P. 3464', '3101281', '315151', 'C.A. 33111', 'CA 2144', 'S.O.C. 14879', '2680', '1601', '348123', '349208', '374746', '248738', '364516', '345767', '345779', '330932', '113059', 'SO/C 14885', '3101278', 'W./C. 6608', 'SOTON/OQ 392086', '19950', '343275', '343276', '347466', 'W.E.P. 5734', 'C.A. 2315', '364500', '374910', 'PC 17754', 'PC 17759', '231919', '244367', '349245', '349215', '35281', '7540', '3101276', '349207', '343120', '312991', '349249', '371110', '110465', '2665', '324669', '4136', '2627', 'STON/O 2. 3101294', '370369', '11668', 'PC 17558', '347082', 'S.O.C. 14879', 'A4. 54510', '237736', '27267', '35281', '2651', '370372', 'C 17369', '2668', '347061', '349241', 'SOTON/O.Q. 3101307', 'A/5. 3337', '228414', 'C.A. 29178', 'SC/PARIS 2133', '11752', '113803', '7534', 'PC 17593', '2678', '347081', 'STON/O2. 3101279', '365222', '231945', 'C.A. 33112', '350043', 'W./C. 6608', '230080', '244310', 'S.O.P. 1166', '113776', 'A.5. 11206', 'A/5. 851', 'Fa 265302', 'PC 17597', '35851', 'SOTON/OQ 392090', '315037', 'CA. 2343', '371362', 'C.A. 33595', '347068', '315093', '3101295', '363291', '113505', '347088', 'PC 17318', '1601', '111240', '382652', '347742', 'STON/O 2. 3101280', '17764', '350404', '4133', 'PC 17595', '250653', 'LINE', 'CA. 2343', 'SC/PARIS 2131', '347077', '230136', '315153', '113767', '370365', '111428', '364849', '349247', '234604', '28424', '350046', '230080', 'PC 17610', 'PC 17569', '368703', '4579', '370370', '248747', '345770', 'CA. 2343', '3101264', '2628', 'A/5 3540', '347054', '3101278', '2699', '367231', '112277', 'SOTON/O.Q. 3101311', 'F.C.C. 13528', 'A/5 21174', '250646', '367229', '35273', 'STON/O2. 3101283', '243847', '11813', 'W/C 14208', 'SOTON/OQ 392089', '220367', '21440', '349234', '19943', 'PP 4348', 'SW/PP 751', 'A/5 21173', '236171', '4133', '36973', '347067', '237442', '347077', 'C.A. 29566', 'W./C. 6609', '26707', 'C.A. 31921', '28665', 'SCO/W 1585', '2665', '367230', 'W./C. 14263', 'STON/O 2. 3101275', '2694', '19928', '347071', '250649', '11751', '244252', '362316', '347054', '113514', 'A/5. 3336', '370129', '2650', 'PC 17585', '110152', 'PC 17755', '230433', '384461', '347077', '110413', '112059', '382649', 'C.A. 17248', '3101295', '347083', 'PC 17582', 'PC 17760', '113798', 'LINE', '250644', 'PC 17596', '370375', '13502', '347073', '239853', '382652', 'C.A. 2673', '336439', '347464', '345778', 'A/5. 10482', '113056', '349239', '345774', '349206', '237798', '370373', '19877', '11967', 'SC/Paris 2163', '349236', '349233', 'PC 17612', '2693', '113781', '19988', 'PC 17558', '9234', '367226', 'LINE', '226593', 'A/5 2466', '113781', '17421', 'PC 17758', 'P/PP 3381', 'PC 17485', '11767', 'PC 17608', '250651', '349243', 'F.C.C. 13529', '347470', '244367', '29011', '36928', '16966', 'A/5 21172', '349219', '234818', '248738', 'CA. 2343', 'PC 17760', '345364', '28551', '363291', '111361', '367226', '113043', 'PC 17582', '345764', 'PC 17611', '349225', '113776', '16966', '7598', '113784', '230080', '19950', '248740', '244361', '229236', '248733', '31418', '386525', 'C.A. 37671', '315088', '7267', '113510', '2695', '349237', '2647', '345783', '113505', '237671', '330931', '330980', '347088', 'SC/PARIS 2167', '2691', 'SOTON/O.Q. 3101310', '370365', 'C 7076', '110813', '2626', '14313', 'PC 17477', '11765', '3101267', '323951', 'PC 17760', '349909', 'PC 17604', 'C 7077', '113503', '2648', '347069', 'PC 17757', '2653', 'STON/O 2. 3101293', '113789', '349227', 'S.O.C. 14879', 'CA 2144', '27849', '367655', 'SC 1748', '113760', '350034', '3101277', '35273', 'PP 9549', '350052', '350407', '28403', '244278', '240929', 'STON/O 2. 3101289', '341826', '4137', 'STON/O2. 3101279', '315096', '28664', '347064', '29106', '312992', '4133', '349222', '394140', '19928', '239853', 'STON/O 2. 3101269', '343095', '28220', '250652', '28228', '345773', '349254', 'A/5. 13032', '315082', '347080', '370129', 'A/4. 34244', '2003', '250655', '364851', 'SOTON/O.Q. 392078', '110564', '376564', 'SC/AH 3085', 'STON/O 2. 3101274', '13507', '113760', 'W./C. 6608', '29106', '19950', 'C.A. 18723', 'F.C.C. 13529', '345769', '347076', '230434', '65306', '33638', '250644', '113794', '2666', '113786', 'C.A. 34651', '65303', '113051', '17453', 'A/5 2817', '349240', '13509', '17464', 'F.C.C. 13531', '371060', '19952', '364506', '111320', '234360', 'A/S 2816', 'SOTON/O.Q. 3101306', '239853', '113792', '36209', '2666', '323592', '315089', 'C.A. 34651', 'SC/AH Basle 541', '7553', '110465', '31027', '3460', '350060', '3101298', 'CA 2144', '239854', 'A/5 3594', '4134', '11967', '4133', '19943', '11771', 'A.5. 18509', 'C.A. 37671', '65304', 'SOTON/OQ 3101317', '113787', 'PC 17609', 'A/4 45380', '2627', '36947', 'C.A. 6212', '113781', '350035', '315086', '364846', '330909', '4135', '110152', 'PC 17758', '26360', '111427', 'C 4001', '1601', '382651', 'SOTON/OQ 3101316', 'PC 17473', 'PC 17603', '349209', '36967', 'C.A. 34260', '371110', '226875', '349242', '12749', '349252', '2624', '111361', '2700', '367232', 'W./C. 14258', 'PC 17483', '3101296', '29104', '26360', '2641', '2690', '2668', '315084', 'F.C.C. 13529', '113050', 'PC 17761', '364498', '13568', 'WE/P 5735', '347082', '347082', '2908', 'PC 17761', '693', '2908', 'SC/PARIS 2146', '363291', 'C.A. 33112', '17421', '244358', '330979', '2620', '347085', '113807', '11755', 'PC 17757', '110413', '345572', '372622', '349251', '218629', 'SOTON/OQ 392082', 'SOTON/O.Q. 392087', 'A/4 48871', '349205', '349909', '2686', '350417', 'S.W./PP 752', '11769', 'PC 17474', '14312', 'A/4. 20589', '358585', '243880', '13507', '2689', 'STON/O 2. 3101286', '237789', '17421', '28403', '13049', '3411', '110413', '237565', '13567', '14973', 'A./5. 3235', 'STON/O 2. 3101273', '36947', 'A/5 3902', '364848', 'SC/AH 29037', '345773', '248727', 'LINE', '2664', 'PC 17485', '243847', '349214', '113796', '364511', '111426', '349910', '349246', '113804', 'SC/Paris 2123', 'PC 17582', '347082', 'SOTON/O.Q. 3101305', '367230', '370377', '364512', '220845', '347080', 'A/5. 3336', '230136', '31028', '2659', '11753', '2653', '350029', '54636', '36963', '219533', '13502', '349224', '334912', '27042', '347743', '13214', '112052', '347088', '237668', 'STON/O 2. 3101292', 'C.A. 31921', '3101295', '376564', '350050', 'PC 17477', '347088', '1601', '2666', 'PC 17572', '349231', '13213', 'S.O./P.P. 751', 'CA. 2314', '349221', '231919', '8475', '330919', '365226', 'S.O.C. 14879', '349223', '364849', '29751', '35273', 'PC 17611', '2623', '5727', '349210', 'STON/O 2. 3101285', 'S.O.C. 14879', '234686', '312993', 'A/5 3536', '19996', '29750', 'F.C. 12750', 'C.A. 24580', '244270', '239856', '349912', '342826', '4138', 'CA 2144', 'PC 17755', '330935', 'PC 17572', '6563', 'CA 2144', '29750', 'SC/Paris 2123', '3101295', '349228', '350036', '24160', '17474', '349256', '1601', '2672', '113800', '248731', '363592', '35852', '17421', '348121', 'PC 17757', 'PC 17475', '2691', '36864', '350025', '250655', '223596', 'PC 17476', '113781', '2661', 'PC 17482', '113028', '19996', '7545', '250647', '348124', 'PC 17757', '34218', '36568', '347062', '248727', '350048', '12233', '250643', '113806', '315094', '31027', '36866', '236853', 'STON/O2. 3101271', '24160', '2699', '239855', '28425', '233639', '54636', 'W./C. 6608', 'PC 17755', '349201', '349218', '16988', '19877', 'PC 17608', '376566', 'STON/O 2. 3101288', 'WE/P 5735', 'C.A. 2673', '250648', '113773', '335097', '29103', '392096', '345780', '349204', '220845', '250649', '350042', '29108', '363294', '110152', '358585', 'SOTON/O2 3101272', '2663', '113760', '347074', '13502', '112379', '364850', '371110', '8471', '345781', '350047', 'S.O./P.P. 3', '2674', '29105', '347078', '383121', '364516', '36865', '24160', '2687', '17474', '113501', 'W./C. 6607', 'SOTON/O.Q. 3101312', '374887', '3101265', '382652', 'C.A. 2315', 'PC 17593', '12460', '239865', 'CA. 2343', 'PC 17600', '349203', '28213', '17465', '349244', '2685', '345773', '250647', 'C.A. 31921', '113760', '2625', '347089', '347063', '112050', '347087', '248723', '113806', '3474', 'A/4 48871', '28206', '347082', '364499', '112058', 'STON/O2. 3101290', 'S.C./PARIS 2079', 'C 7075', '347088', '12749', '315098', '19972', '392096', '3101295', '368323', '1601', 'S.C./PARIS 2079', '367228', '113572', '2659', '29106', '2671', '347468', '2223', 'PC 17756', '315097', '392092', '1601', '11774', 'SOTON/O2 3101287', 'S.O./P.P. 3', '113798', '2683', '315090', 'C.A. 5547', 'CA. 2343', '349213', '248727', '17453', '347082', '347060', '2678', 'PC 17592', '244252', '392091', '36928', '113055', '2666', '2629', '350026', '28134', '17466', 'CA. 2343', '233866', '236852', 'SC/PARIS 2149', 'PC 17590', '345777', '347742', '349248', '11751', '695', '345765', 'P/PP 3381', '2667', '7534', '349212', '349217', '11767', '230433', '349257', '7552', 'C.A./SOTON 34068', 'SOTON/OQ 392076', '382652', '211536', '112053', 'W./C. 6607', '111369', '370376']\n",
            "Fare: ['7.25', '71.2833', '7.925', '53.1', '8.05', '8.4583', '51.8625', '21.075', '11.1333', '30.0708', '16.7', '26.55', '8.05', '31.275', '7.8542', '16', '29.125', '13', '18', '7.225', '26', '13', '8.0292', '35.5', '21.075', '31.3875', '7.225', '263', '7.8792', '7.8958', '27.7208', '146.5208', '7.75', '10.5', '82.1708', '52', '7.2292', '8.05', '18', '11.2417', '9.475', '21', '7.8958', '41.5792', '7.8792', '8.05', '15.5', '7.75', '21.6792', '17.8', '39.6875', '7.8', '76.7292', '26', '61.9792', '35.5', '10.5', '7.2292', '27.75', '46.9', '7.2292', '80', '83.475', '27.9', '27.7208', '15.2458', '10.5', '8.1583', '7.925', '8.6625', '10.5', '46.9', '73.5', '14.4542', '56.4958', '7.65', '7.8958', '8.05', '29', '12.475', '9', '9.5', '7.7875', '47.1', '10.5', '15.85', '34.375', '8.05', '263', '8.05', '8.05', '7.8542', '61.175', '20.575', '7.25', '8.05', '34.6542', '63.3583', '23', '26', '7.8958', '7.8958', '77.2875', '8.6542', '7.925', '7.8958', '7.65', '7.775', '7.8958', '24.15', '52', '14.4542', '8.05', '9.825', '14.4583', '7.925', '7.75', '21', '247.5208', '31.275', '73.5', '8.05', '30.0708', '13', '77.2875', '11.2417', '7.75', '7.1417', '22.3583', '6.975', '7.8958', '7.05', '14.5', '26', '13', '15.0458', '26.2833', '53.1', '9.2167', '79.2', '15.2458', '7.75', '15.85', '6.75', '11.5', '36.75', '7.7958', '34.375', '26', '13', '12.525', '66.6', '8.05', '14.5', '7.3125', '61.3792', '7.7333', '8.05', '8.6625', '69.55', '16.1', '15.75', '7.775', '8.6625', '39.6875', '20.525', '55', '27.9', '25.925', '56.4958', '33.5', '29.125', '11.1333', '7.925', '30.6958', '7.8542', '25.4667', '28.7125', '13', '0', '69.55', '15.05', '31.3875', '39', '22.025', '50', '15.5', '26.55', '15.5', '7.8958', '13', '13', '7.8542', '26', '27.7208', '146.5208', '7.75', '8.4042', '7.75', '13', '9.5', '69.55', '6.4958', '7.225', '8.05', '10.4625', '15.85', '18.7875', '7.75', '31', '7.05', '21', '7.25', '13', '7.75', '113.275', '7.925', '27', '76.2917', '10.5', '8.05', '13', '8.05', '7.8958', '90', '9.35', '10.5', '7.25', '13', '25.4667', '83.475', '7.775', '13.5', '31.3875', '10.5', '7.55', '26', '26.25', '10.5', '12.275', '14.4542', '15.5', '10.5', '7.125', '7.225', '90', '7.775', '14.5', '52.5542', '26', '7.25', '10.4625', '26.55', '16.1', '20.2125', '15.2458', '79.2', '86.5', '512.3292', '26', '7.75', '31.3875', '79.65', '0', '7.75', '10.5', '39.6875', '7.775', '153.4625', '135.6333', '31', '0', '19.5', '29.7', '7.75', '77.9583', '7.75', '0', '29.125', '20.25', '7.75', '7.8542', '9.5', '8.05', '26', '8.6625', '9.5', '7.8958', '13', '7.75', '78.85', '91.0792', '12.875', '8.85', '7.8958', '27.7208', '7.2292', '151.55', '30.5', '247.5208', '7.75', '23.25', '0', '12.35', '8.05', '151.55', '110.8833', '108.9', '24', '56.9292', '83.1583', '262.375', '26', '7.8958', '26.25', '7.8542', '26', '14', '164.8667', '134.5', '7.25', '7.8958', '12.35', '29', '69.55', '135.6333', '6.2375', '13', '20.525', '57.9792', '23.25', '28.5', '153.4625', '18', '133.65', '7.8958', '66.6', '134.5', '8.05', '35.5', '26', '263', '13', '13', '13', '13', '13', '16.1', '15.9', '8.6625', '9.225', '35', '7.2292', '17.8', '7.225', '9.5', '55', '13', '7.8792', '7.8792', '27.9', '27.7208', '14.4542', '7.05', '15.5', '7.25', '75.25', '7.2292', '7.75', '69.3', '55.4417', '6.4958', '8.05', '135.6333', '21.075', '82.1708', '7.25', '211.5', '4.0125', '7.775', '227.525', '15.7417', '7.925', '52', '7.8958', '73.5', '46.9', '13', '7.7292', '12', '120', '7.7958', '7.925', '113.275', '16.7', '7.7958', '7.8542', '26', '10.5', '12.65', '7.925', '8.05', '9.825', '15.85', '8.6625', '21', '7.75', '18.75', '7.775', '25.4667', '7.8958', '6.8583', '90', '0', '7.925', '8.05', '32.5', '13', '13', '24.15', '7.8958', '7.7333', '7.875', '14.4', '20.2125', '7.25', '26', '26', '7.75', '8.05', '26.55', '16.1', '26', '7.125', '55.9', '120', '34.375', '18.75', '263', '10.5', '26.25', '9.5', '7.775', '13', '8.1125', '81.8583', '19.5', '26.55', '19.2583', '30.5', '27.75', '19.9667', '27.75', '89.1042', '8.05', '7.8958', '26.55', '51.8625', '10.5', '7.75', '26.55', '8.05', '38.5', '13', '8.05', '7.05', '0', '26.55', '7.725', '19.2583', '7.25', '8.6625', '27.75', '13.7917', '9.8375', '52', '21', '7.0458', '7.5208', '12.2875', '46.9', '0', '8.05', '9.5875', '91.0792', '25.4667', '90', '29.7', '8.05', '15.9', '19.9667', '7.25', '30.5', '49.5042', '8.05', '14.4583', '78.2667', '15.1', '151.55', '7.7958', '8.6625', '7.75', '7.6292', '9.5875', '86.5', '108.9', '26', '26.55', '22.525', '56.4958', '7.75', '8.05', '26.2875', '59.4', '7.4958', '34.0208', '10.5', '24.15', '26', '7.8958', '93.5', '7.8958', '7.225', '57.9792', '7.2292', '7.75', '10.5', '221.7792', '7.925', '11.5', '26', '7.2292', '7.2292', '22.3583', '8.6625', '26.25', '26.55', '106.425', '14.5', '49.5', '71', '31.275', '31.275', '26', '106.425', '26', '26', '13.8625', '20.525', '36.75', '110.8833', '26', '7.8292', '7.225', '7.775', '26.55', '39.6', '227.525', '79.65', '17.4', '7.75', '7.8958', '13.5', '8.05', '8.05', '24.15', '7.8958', '21.075', '7.2292', '7.8542', '10.5', '51.4792', '26.3875', '7.75', '8.05', '14.5', '13', '55.9', '14.4583', '7.925', '30', '110.8833', '26', '40.125', '8.7125', '79.65', '15', '79.2', '8.05', '8.05', '7.125', '78.2667', '7.25', '7.75', '26', '24.15', '33', '0', '7.225', '56.9292', '27', '7.8958', '42.4', '8.05', '26.55', '15.55', '7.8958', '30.5', '41.5792', '153.4625', '31.275', '7.05', '15.5', '7.75', '8.05', '65', '14.4', '16.1', '39', '10.5', '14.4542', '52.5542', '15.7417', '7.8542', '16.1', '32.3208', '12.35', '77.9583', '7.8958', '7.7333', '30', '7.0542', '30.5', '0', '27.9', '13', '7.925', '26.25', '39.6875', '16.1', '7.8542', '69.3', '27.9', '56.4958', '19.2583', '76.7292', '7.8958', '35.5', '7.55', '7.55', '7.8958', '23', '8.4333', '7.8292', '6.75', '73.5', '7.8958', '15.5', '13', '113.275', '133.65', '7.225', '25.5875', '7.4958', '7.925', '73.5', '13', '7.775', '8.05', '52', '39', '52', '10.5', '13', '0', '7.775', '8.05', '9.8417', '46.9', '512.3292', '8.1375', '76.7292', '9.225', '46.9', '39', '41.5792', '39.6875', '10.1708', '7.7958', '211.3375', '57', '13.4167', '56.4958', '7.225', '26.55', '13.5', '8.05', '7.7333', '110.8833', '7.65', '227.525', '26.2875', '14.4542', '7.7417', '7.8542', '26', '13.5', '26.2875', '151.55', '15.2458', '49.5042', '26.55', '52', '9.4833', '13', '7.65', '227.525', '10.5', '15.5', '7.775', '33', '7.0542', '13', '13', '53.1', '8.6625', '21', '7.7375', '26', '7.925', '211.3375', '18.7875', '0', '13', '13', '16.1', '34.375', '512.3292', '7.8958', '7.8958', '30', '78.85', '262.375', '16.1', '7.925', '71', '20.25', '13', '53.1', '7.75', '23', '12.475', '9.5', '7.8958', '65', '14.5', '7.7958', '11.5', '8.05', '86.5', '14.5', '7.125', '7.2292', '120', '7.775', '77.9583', '39.6', '7.75', '24.15', '8.3625', '9.5', '7.8542', '10.5', '7.225', '23', '7.75', '7.75', '12.475', '7.7375', '211.3375', '7.2292', '57', '30', '23.45', '7.05', '7.25', '7.4958', '29.125', '20.575', '79.2', '7.75', '26', '69.55', '30.6958', '7.8958', '13', '25.9292', '8.6833', '7.2292', '24.15', '13', '26.25', '120', '8.5167', '6.975', '7.775', '0', '7.775', '13', '53.1', '7.8875', '24.15', '10.5', '31.275', '8.05', '0', '7.925', '37.0042', '6.45', '27.9', '93.5', '8.6625', '0', '12.475', '39.6875', '6.95', '56.4958', '37.0042', '7.75', '80', '14.4542', '18.75', '7.2292', '7.8542', '8.3', '83.1583', '8.6625', '8.05', '56.4958', '29.7', '7.925', '10.5', '31', '6.4375', '8.6625', '7.55', '69.55', '7.8958', '33', '89.1042', '31.275', '7.775', '15.2458', '39.4', '26', '9.35', '164.8667', '26.55', '19.2583', '7.2292', '14.1083', '11.5', '25.9292', '69.55', '13', '13', '13.8583', '50.4958', '9.5', '11.1333', '7.8958', '52.5542', '5', '9', '24', '7.225', '9.8458', '7.8958', '7.8958', '83.1583', '26', '7.8958', '10.5167', '10.5', '7.05', '29.125', '13', '30', '23.45', '30', '7.75']\n",
            "Cabin: [None, 'C85', None, 'C123', None, None, 'E46', None, None, None, 'G6', 'C103', None, None, None, None, None, None, None, None, None, 'D56', None, 'A6', None, None, None, 'C23 C25 C27', None, None, None, 'B78', None, None, None, None, None, None, None, None, None, None, None, None, None, None, None, None, None, None, None, None, 'D33', None, 'B30', 'C52', None, None, None, None, None, 'B28', 'C83', None, None, None, 'F33', None, None, None, None, None, None, None, None, 'F G73', None, None, None, None, None, None, None, None, None, None, None, None, 'C23 C25 C27', None, None, None, 'E31', None, None, None, 'A5', 'D10 D12', None, None, None, None, 'D26', None, None, None, None, None, None, None, 'C110', None, None, None, None, None, None, None, 'B58 B60', None, None, None, None, 'E101', 'D26', None, None, None, 'F E69', None, None, None, None, None, None, None, 'D47', 'C123', None, 'B86', None, None, None, None, None, None, None, None, 'F2', None, None, 'C2', None, None, None, None, None, None, None, None, None, None, None, None, None, None, 'E33', None, None, None, 'B19', None, None, None, 'A7', None, None, 'C49', None, None, None, None, None, 'F4', None, 'A32', None, None, None, None, None, None, None, 'F2', 'B4', 'B80', None, None, None, None, None, None, None, None, None, 'G6', None, None, None, 'A31', None, None, None, None, None, 'D36', None, None, 'D15', None, None, None, None, None, 'C93', None, None, None, None, None, 'C83', None, None, None, None, None, None, None, None, None, None, None, None, None, None, 'C78', None, None, 'D35', None, None, 'G6', 'C87', None, None, None, None, 'B77', None, None, None, None, 'E67', 'B94', None, None, None, None, 'C125', 'C99', None, None, None, 'C118', None, 'D7', None, None, None, None, None, None, None, None, 'A19', None, None, None, None, None, None, 'B49', 'D', None, None, None, None, 'C22 C26', 'C106', 'B58 B60', None, None, None, 'E101', None, 'C22 C26', None, 'C65', None, 'E36', 'C54', 'B57 B59 B63 B66', None, None, None, None, None, None, 'C7', 'E34', None, None, None, None, None, 'C32', None, 'D', None, 'B18', None, 'C124', 'C91', None, None, None, 'C2', 'E40', None, 'T', 'F2', 'C23 C25 C27', None, None, None, 'F33', None, None, None, None, None, 'C128', None, None, None, None, 'E33', None, None, None, None, None, None, None, None, None, 'D37', None, None, 'B35', 'E50', None, None, None, None, None, None, 'C82', None, None, None, None, None, None, None, None, None, None, None, None, 'B96 B98', None, None, 'D36', 'G6', None, None, None, None, None, None, None, None, None, None, None, None, None, None, None, None, None, 'C78', None, None, None, None, None, None, None, None, None, None, None, None, None, None, None, None, 'E10', 'C52', None, None, None, 'E44', 'B96 B98', None, None, 'C23 C25 C27', None, None, None, None, None, None, 'A34', None, None, None, 'C104', None, None, 'C111', 'C92', None, None, 'E38', 'D21', None, None, 'E12', None, 'E63', None, None, None, None, None, None, None, None, None, None, 'D', None, 'A14', None, None, None, None, None, None, None, None, 'B49', None, 'C93', 'B37', None, None, None, None, 'C30', None, None, None, 'D20', None, 'C22 C26', None, None, None, None, None, 'B79', 'C65', None, None, None, None, None, None, 'E25', None, None, 'D46', 'F33', None, None, None, 'B73', None, None, 'B18', None, None, None, 'C95', None, None, None, None, None, None, None, None, 'B38', None, None, 'B39', 'B22', None, None, None, 'C86', None, None, None, None, None, 'C70', None, None, None, None, None, 'A16', None, 'E67', None, None, None, None, None, None, None, None, None, None, None, None, 'C101', 'E25', None, None, None, None, 'E44', None, None, None, 'C68', None, 'A10', None, 'E68', None, 'B41', None, None, None, 'D20', None, None, None, None, None, None, None, 'A20', None, None, None, None, None, None, None, None, None, 'C125', None, None, None, None, None, None, None, None, 'F4', None, None, 'D19', None, None, None, 'D50', None, 'D9', None, None, 'A23', None, 'B50', None, None, None, None, None, None, None, None, 'B35', None, None, None, 'D33', None, 'A26', None, None, None, None, None, None, None, None, None, None, None, 'D48', None, None, 'E58', None, None, None, None, None, None, 'C126', None, 'B71', None, None, None, None, None, None, None, 'B51 B53 B55', None, 'D49', None, None, None, None, None, None, None, 'B5', 'B20', None, None, None, None, None, None, None, 'C68', 'F G63', 'C62 C64', 'E24', None, None, None, None, None, 'E24', None, None, 'C90', 'C124', 'C126', None, None, 'F G73', 'C45', 'E101', None, None, None, None, None, None, 'E8', None, None, None, None, None, 'B5', None, None, None, None, None, None, 'B101', None, None, 'D45', 'C46', 'B57 B59 B63 B66', None, None, 'B22', None, None, 'D30', None, None, 'E121', None, None, None, None, None, None, None, 'B77', None, None, None, 'B96 B98', None, 'D11', None, None, None, None, None, None, 'E77', None, None, None, 'F38', None, None, 'B3', None, 'B20', 'D6', None, None, None, None, None, None, 'B82 B84', None, None, None, None, None, None, 'D17', None, None, None, None, None, 'B96 B98', None, None, None, 'A36', None, None, 'E8', None, None, None, None, None, 'B102', None, None, None, None, 'B69', None, None, 'E121', None, None, None, None, None, 'B28', None, None, None, None, None, 'E49', None, None, None, 'C47', None, None, None, None, None, None, None, None, None, 'C92', None, None, None, 'D28', None, None, None, 'E17', None, None, None, None, 'D17', None, None, None, None, 'A24', None, None, None, 'D35', 'B51 B53 B55', None, None, None, None, None, None, 'C50', None, None, None, None, None, None, None, 'B42', None, 'C148', None]\n",
            "Embarked: ['S', 'C', 'S', 'S', 'S', 'Q', 'S', 'S', 'S', 'C', 'S', 'S', 'S', 'S', 'S', 'S', 'Q', 'S', 'S', 'C', 'S', 'S', 'Q', 'S', 'S', 'S', 'C', 'S', 'Q', 'S', 'C', 'C', 'Q', 'S', 'C', 'S', 'C', 'S', 'S', 'C', 'S', 'S', 'C', 'C', 'Q', 'S', 'Q', 'Q', 'C', 'S', 'S', 'S', 'C', 'S', 'C', 'S', 'S', 'C', 'S', 'S', 'C', 'S', 'S', 'C', 'C', 'S', 'S', 'S', 'S', 'S', 'S', 'S', 'C', 'S', 'S', 'S', 'S', 'S', 'S', 'S', 'S', 'Q', 'S', 'S', 'S', 'S', 'S', 'S', 'S', 'S', 'S', 'S', 'S', 'S', 'S', 'C', 'C', 'S', 'S', 'S', 'S', 'S', 'S', 'S', 'S', 'S', 'S', 'S', 'Q', 'S', 'C', 'S', 'S', 'C', 'S', 'Q', 'S', 'C', 'S', 'S', 'S', 'C', 'S', 'S', 'C', 'Q', 'S', 'C', 'S', 'C', 'S', 'S', 'S', 'S', 'C', 'S', 'S', 'S', 'C', 'C', 'S', 'S', 'Q', 'S', 'S', 'S', 'S', 'S', 'S', 'S', 'S', 'S', 'S', 'S', 'C', 'Q', 'S', 'S', 'S', 'S', 'S', 'S', 'S', 'S', 'S', 'S', 'S', 'S', 'S', 'S', 'Q', 'S', 'S', 'C', 'S', 'S', 'C', 'S', 'S', 'S', 'C', 'S', 'S', 'S', 'S', 'Q', 'S', 'Q', 'S', 'S', 'S', 'S', 'S', 'C', 'C', 'Q', 'S', 'Q', 'S', 'S', 'S', 'S', 'C', 'S', 'S', 'S', 'C', 'Q', 'C', 'S', 'S', 'S', 'S', 'Q', 'C', 'S', 'S', 'C', 'S', 'S', 'S', 'S', 'S', 'S', 'S', 'S', 'S', 'S', 'S', 'S', 'S', 'S', 'S', 'S', 'S', 'S', 'S', 'S', 'S', 'C', 'Q', 'S', 'S', 'C', 'Q', 'S', 'S', 'S', 'S', 'S', 'S', 'S', 'S', 'S', 'C', 'C', 'S', 'C', 'S', 'Q', 'S', 'S', 'S', 'Q', 'S', 'S', 'S', 'S', 'S', 'S', 'S', 'S', 'C', 'Q', 'S', 'S', 'S', 'Q', 'S', 'Q', 'S', 'S', 'S', 'S', 'C', 'S', 'S', 'S', 'Q', 'S', 'C', 'C', 'S', 'S', 'C', 'C', 'S', 'S', 'C', 'Q', 'Q', 'S', 'Q', 'S', 'S', 'C', 'C', 'C', 'C', 'C', 'C', 'S', 'S', 'S', 'S', 'S', 'S', 'S', 'C', 'S', 'S', 'Q', 'S', 'S', 'C', 'S', 'S', 'S', 'C', 'Q', 'S', 'S', 'S', 'S', 'S', 'S', 'C', 'S', 'S', 'S', 'S', 'S', 'S', 'S', 'S', 'S', 'S', 'S', 'S', 'S', 'S', 'C', 'S', 'C', 'S', 'S', 'S', 'Q', 'Q', 'S', 'C', 'C', 'S', 'Q', 'S', 'C', 'C', 'Q', 'C', 'C', 'S', 'S', 'C', 'S', 'C', 'S', 'C', 'C', 'S', 'C', 'C', 'S', 'S', 'S', 'S', 'S', 'S', 'Q', 'C', 'S', 'S', 'S', 'C', 'S', 'S', 'S', 'S', 'S', 'S', 'S', 'S', 'S', 'S', 'S', 'S', 'S', 'S', 'S', 'S', 'S', 'Q', 'Q', 'S', 'S', 'S', 'S', 'S', 'S', 'S', 'C', 'Q', 'S', 'S', 'S', 'S', 'S', 'S', 'Q', 'S', 'S', 'S', 'S', 'S', 'S', 'S', 'S', 'S', 'S', 'S', 'S', 'S', 'S', 'S', 'S', 'S', 'S', 'S', 'C', 'S', 'S', 'S', 'C', 'C', 'S', 'C', 'S', 'S', 'S', 'Q', 'S', 'S', 'S', 'S', 'S', 'S', 'S', 'S', 'Q', 'C', 'S', 'S', 'S', 'C', 'S', 'S', 'S', 'S', 'S', 'S', 'S', 'S', 'S', 'S', 'C', 'S', 'S', 'C', 'S', 'S', 'S', 'S', 'S', 'C', 'S', 'C', 'C', 'S', 'S', 'S', 'S', 'Q', 'Q', 'S', 'S', 'C', 'S', 'S', 'S', 'S', 'Q', 'S', 'S', 'C', 'S', 'S', 'S', 'Q', 'S', 'S', 'S', 'S', 'C', 'C', 'C', 'Q', 'S', 'S', 'S', 'S', 'S', 'C', 'C', 'C', 'S', 'S', 'S', 'C', 'S', 'C', 'S', 'S', 'S', 'S', 'C', 'S', 'S', 'C', 'S', 'S', 'C', 'S', 'Q', 'C', 'S', 'S', 'C', 'C', 'S', 'S', 'Q', 'S', 'S', 'S', 'S', 'S', 'S', 'S', 'C', 'S', 'S', 'S', 'S', 'Q', 'S', 'S', 'S', 'S', 'C', 'S', 'S', 'C', 'S', 'C', 'C', 'S', 'S', 'C', 'S', 'S', 'S', 'C', 'S', 'Q', 'S', 'S', 'S', 'S', 'C', 'C', 'S', 'S', 'S', 'S', 'C', 'S', 'S', 'S', 'C', 'S', 'S', 'S', 'Q', 'Q', 'S', 'S', 'S', 'S', 'S', 'S', 'C', 'S', 'C', 'S', 'S', 'S', 'Q', 'S', 'S', 'Q', 'S', 'S', 'C', 'S', 'S', 'S', 'S', 'S', 'S', 'S', 'S', 'C', 'S', 'S', 'C', 'C', 'S', 'C', 'S', 'S', 'S', 'S', 'S', 'Q', 'Q', 'S', 'S', 'Q', 'S', 'C', 'S', 'C', 'S', 'S', 'S', 'S', 'S', 'S', 'S', 'S', 'S', 'S', 'S', 'S', 'S', 'S', 'S', 'S', 'S', 'C', 'Q', 'C', 'S', 'S', 'S', 'C', 'S', 'S', 'S', 'S', 'S', 'C', 'S', 'C', 'S', 'S', 'S', 'Q', 'C', 'S', 'C', 'S', 'C', 'Q', 'S', 'S', 'S', 'S', 'S', 'C', 'C', 'S', 'S', 'S', 'S', 'S', 'C', 'S', 'Q', 'S', 'S', 'S', 'S', 'S', 'S', 'S', 'S', 'Q', 'S', 'S', 'S', 'C', 'S', 'S', 'S', 'S', 'S', 'C', 'S', 'S', 'S', 'S', 'C', 'S', 'S', 'S', 'S', 'S', 'S', 'Q', 'S', 'S', 'S', 'S', 'S', 'S', 'S', 'S', 'S', 'S', 'S', 'S', 'C', 'S', 'S', 'S', 'C', 'Q', 'Q', 'S', 'S', 'S', 'S', 'C', 'S', 'S', 'Q', 'S', 'Q', 'S', 'C', 'S', 'S', 'S', 'S', 'S', 'S', 'Q', 'S', 'C', 'Q', 'S', 'S', 'C', 'S', 'S', 'S', 'S', 'C', 'S', 'S', 'S', 'S', 'C', 'S', 'S', 'S', 'S', 'S', 'S', 'S', 'S', 'S', 'S', 'S', 'S', 'S', 'C', 'S', 'S', 'S', 'S', 'S', 'S', 'S', 'Q', 'S', 'C', 'Q', 'C', 'S', 'C', 'S', 'S', 'C', 'S', 'S', 'S', 'C', 'S', 'S', 'C', 'C', 'S', 'S', 'S', 'C', 'S', 'C', 'S', 'S', 'C', 'S', 'S', 'S', 'S', 'S', 'C', 'C', 'S', 'S', 'S', 'S', 'S', 'S', 'C', 'S', 'S', 'S', 'S', 'S', 'S', 'S', 'C', 'C', 'S', 'S', 'S', 'C', 'S', 'S', 'S', 'S', 'S', 'Q', 'S', 'S', 'S', 'C', 'Q']\n",
            "0.38\n",
            "['420', '0', '3', 'Van Impe, Miss. Catharina', 'female', '10', '0', '2', '345773', '24.15', None, 'C']\n",
            "['238', '1', '2', 'Collyer, Miss. Marjorie \"\"Lottie\"\"', 'female', '8', '0', '2', 'C.A. 31921', '26.25', None, 'S']\n",
            "['180', '0', '3', 'Leonard, Mr. Lionel', 'male', '36', '0', '0', 'LINE', '0', None, 'S']\n"
          ]
        }
      ]
    },
    {
      "cell_type": "code",
      "source": [
        "§"
      ],
      "metadata": {
        "id": "tXqSO1e_Xy86"
      },
      "execution_count": null,
      "outputs": []
    }
  ],
  "metadata": {
    "colab": {
      "collapsed_sections": [
        "KizLECz3qLuR",
        "veZRTaASf2rZ",
        "nmN8-W4mpWGh",
        "6uQ3EP7n7Z1S"
      ],
      "provenance": []
    },
    "kernelspec": {
      "display_name": "Python 3 (ipykernel)",
      "language": "python",
      "name": "python3"
    },
    "language_info": {
      "codemirror_mode": {
        "name": "ipython",
        "version": 3
      },
      "file_extension": ".py",
      "mimetype": "text/x-python",
      "name": "python",
      "nbconvert_exporter": "python",
      "pygments_lexer": "ipython3",
      "version": "3.10.6"
    },
    "latex_envs": {
      "LaTeX_envs_menu_present": true,
      "autoclose": false,
      "autocomplete": true,
      "bibliofile": "biblio.bib",
      "cite_by": "apalike",
      "current_citInitial": 1,
      "eqLabelWithNumbers": true,
      "eqNumInitial": 1,
      "hotkeys": {
        "equation": "Ctrl-E",
        "itemize": "Ctrl-I"
      },
      "labels_anchors": false,
      "latex_user_defs": false,
      "report_style_numbering": false,
      "user_envs_cfg": false
    }
  },
  "nbformat": 4,
  "nbformat_minor": 0
}